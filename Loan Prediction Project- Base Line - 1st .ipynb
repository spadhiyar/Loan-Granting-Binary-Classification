{
 "cells": [
  {
   "cell_type": "markdown",
   "metadata": {},
   "source": [
    "# Loan Default Prediction"
   ]
  },
  {
   "cell_type": "markdown",
   "metadata": {},
   "source": [
    "# Import Module"
   ]
  },
  {
   "cell_type": "code",
   "execution_count": 1,
   "metadata": {
    "collapsed": true
   },
   "outputs": [],
   "source": [
    "import numpy as np\n",
    "import pandas as pd\n",
    "import seaborn as sns\n",
    "import matplotlib.pyplot as plt\n",
    "import seaborn as sns\n",
    "%matplotlib inline\n",
    "from sklearn.linear_model import LogisticRegression #logistic regression\n",
    "from sklearn import svm #support vector Machine\n",
    "from sklearn.ensemble import RandomForestClassifier #Random Forest\n",
    "from sklearn.neighbors import KNeighborsClassifier #KNN\n",
    "from sklearn.naive_bayes import GaussianNB #Naive bayes\n",
    "from sklearn.tree import DecisionTreeClassifier #Decision Tree\n",
    "from sklearn.ensemble import GradientBoostingClassifier \n",
    "from sklearn.ensemble import AdaBoostClassifier \n",
    "from sklearn.model_selection import train_test_split as tts #training and testing data split\n",
    "from sklearn import metrics #accuracy measure\n",
    "from sklearn.metrics import confusion_matrix #for confusion matrix"
   ]
  },
  {
   "cell_type": "markdown",
   "metadata": {},
   "source": [
    "# Load Data"
   ]
  },
  {
   "cell_type": "code",
   "execution_count": 2,
   "metadata": {},
   "outputs": [
    {
     "name": "stderr",
     "output_type": "stream",
     "text": [
      "/Users/SKYLER/anaconda3/lib/python3.6/site-packages/IPython/core/interactiveshell.py:2698: DtypeWarning: Columns (16) have mixed types. Specify dtype option on import or set low_memory=False.\n",
      "  interactivity=interactivity, compiler=compiler, result=result)\n"
     ]
    }
   ],
   "source": [
    "Loan=pd.read_csv('LoansTrainingSet.csv')"
   ]
  },
  {
   "cell_type": "markdown",
   "metadata": {},
   "source": [
    "# Data Description\n",
    "   This file contains "
   ]
  },
  {
   "cell_type": "markdown",
   "metadata": {},
   "source": [
    "# Data Preprocessing\n",
    "\n",
    "Let's Quickly look how data looks like & what changes we need to do"
   ]
  },
  {
   "cell_type": "code",
   "execution_count": 3,
   "metadata": {
    "collapsed": true
   },
   "outputs": [],
   "source": [
    "Loan=Loan.rename(columns=lambda x:x.replace(' ','_'))"
   ]
  },
  {
   "cell_type": "code",
   "execution_count": 4,
   "metadata": {
    "scrolled": true
   },
   "outputs": [
    {
     "data": {
      "text/plain": [
       "Loan_ID                          object\n",
       "Customer_ID                      object\n",
       "Loan_Status                      object\n",
       "Current_Loan_Amount               int64\n",
       "Term                             object\n",
       "Credit_Score                    float64\n",
       "Years_in_current_job             object\n",
       "Home_Ownership                   object\n",
       "Annual_Income                   float64\n",
       "Purpose                          object\n",
       "Monthly_Debt                     object\n",
       "Years_of_Credit_History         float64\n",
       "Months_since_last_delinquent    float64\n",
       "Number_of_Open_Accounts           int64\n",
       "Number_of_Credit_Problems         int64\n",
       "Current_Credit_Balance            int64\n",
       "Maximum_Open_Credit              object\n",
       "Bankruptcies                    float64\n",
       "Tax_Liens                       float64\n",
       "dtype: object"
      ]
     },
     "execution_count": 4,
     "metadata": {},
     "output_type": "execute_result"
    }
   ],
   "source": [
    "Loan.dtypes"
   ]
  },
  {
   "cell_type": "code",
   "execution_count": 5,
   "metadata": {},
   "outputs": [
    {
     "name": "stdout",
     "output_type": "stream",
     "text": [
      "<class 'pandas.core.frame.DataFrame'>\n",
      "RangeIndex: 256984 entries, 0 to 256983\n",
      "Data columns (total 19 columns):\n",
      "Loan_ID                         256984 non-null object\n",
      "Customer_ID                     256984 non-null object\n",
      "Loan_Status                     256984 non-null object\n",
      "Current_Loan_Amount             256984 non-null int64\n",
      "Term                            256984 non-null object\n",
      "Credit_Score                    195308 non-null float64\n",
      "Years_in_current_job            256984 non-null object\n",
      "Home_Ownership                  256984 non-null object\n",
      "Annual_Income                   195308 non-null float64\n",
      "Purpose                         256984 non-null object\n",
      "Monthly_Debt                    256984 non-null object\n",
      "Years_of_Credit_History         256984 non-null float64\n",
      "Months_since_last_delinquent    116601 non-null float64\n",
      "Number_of_Open_Accounts         256984 non-null int64\n",
      "Number_of_Credit_Problems       256984 non-null int64\n",
      "Current_Credit_Balance          256984 non-null int64\n",
      "Maximum_Open_Credit             256984 non-null object\n",
      "Bankruptcies                    256455 non-null float64\n",
      "Tax_Liens                       256961 non-null float64\n",
      "dtypes: float64(6), int64(4), object(9)\n",
      "memory usage: 37.3+ MB\n"
     ]
    }
   ],
   "source": [
    "Loan.info()"
   ]
  },
  {
   "cell_type": "code",
   "execution_count": 6,
   "metadata": {},
   "outputs": [
    {
     "data": {
      "text/plain": [
       "Loan_ID                              0\n",
       "Customer_ID                          0\n",
       "Loan_Status                          0\n",
       "Current_Loan_Amount                  0\n",
       "Term                                 0\n",
       "Credit_Score                     61676\n",
       "Years_in_current_job                 0\n",
       "Home_Ownership                       0\n",
       "Annual_Income                    61676\n",
       "Purpose                              0\n",
       "Monthly_Debt                         0\n",
       "Years_of_Credit_History              0\n",
       "Months_since_last_delinquent    140383\n",
       "Number_of_Open_Accounts              0\n",
       "Number_of_Credit_Problems            0\n",
       "Current_Credit_Balance               0\n",
       "Maximum_Open_Credit                  0\n",
       "Bankruptcies                       529\n",
       "Tax_Liens                           23\n",
       "dtype: int64"
      ]
     },
     "execution_count": 6,
     "metadata": {},
     "output_type": "execute_result"
    }
   ],
   "source": [
    "Loan.isnull().sum()"
   ]
  },
  {
   "cell_type": "markdown",
   "metadata": {},
   "source": [
    "So, we can see that there are null values for columns Credit_Score, Annual_Income, Months_since_last_delinquent,\n",
    "Bankruptcies & Tax_Liens"
   ]
  },
  {
   "cell_type": "markdown",
   "metadata": {},
   "source": [
    "# Seprating Object column & Make new data frame"
   ]
  },
  {
   "cell_type": "code",
   "execution_count": 7,
   "metadata": {},
   "outputs": [
    {
     "data": {
      "text/plain": [
       "['Loan_ID',\n",
       " 'Customer_ID',\n",
       " 'Loan_Status',\n",
       " 'Term',\n",
       " 'Years_in_current_job',\n",
       " 'Home_Ownership',\n",
       " 'Purpose',\n",
       " 'Monthly_Debt',\n",
       " 'Maximum_Open_Credit']"
      ]
     },
     "execution_count": 7,
     "metadata": {},
     "output_type": "execute_result"
    }
   ],
   "source": [
    "df_object=[]\n",
    "for col in Loan.columns:\n",
    "    if Loan[col].dtype==np.object:\n",
    "        df_object.append(col)\n",
    "df_object"
   ]
  },
  {
   "cell_type": "code",
   "execution_count": 8,
   "metadata": {
    "collapsed": true
   },
   "outputs": [],
   "source": [
    "cols=['Loan_ID','Customer_ID','Loan_Status','Term','Home_Ownership','Purpose']\n",
    "rem_cols = ['Loan_ID','Current_Loan_Amount','Credit_Score','Years_in_current_job',\n",
    "            'Annual_Income','Monthly_Debt','Years_of_Credit_History','Months_since_last_delinquent',\n",
    "            'Number_of_Open_Accounts','Number_of_Credit_Problems','Current_Credit_Balance','Maximum_Open_Credit','Bankruptcies','Tax_Liens']"
   ]
  },
  {
   "cell_type": "code",
   "execution_count": 9,
   "metadata": {},
   "outputs": [
    {
     "data": {
      "text/plain": [
       "['Loan_ID',\n",
       " 'Current_Loan_Amount',\n",
       " 'Credit_Score',\n",
       " 'Years_in_current_job',\n",
       " 'Annual_Income',\n",
       " 'Monthly_Debt',\n",
       " 'Years_of_Credit_History',\n",
       " 'Months_since_last_delinquent',\n",
       " 'Number_of_Open_Accounts',\n",
       " 'Number_of_Credit_Problems',\n",
       " 'Current_Credit_Balance',\n",
       " 'Maximum_Open_Credit',\n",
       " 'Bankruptcies',\n",
       " 'Tax_Liens']"
      ]
     },
     "execution_count": 9,
     "metadata": {},
     "output_type": "execute_result"
    }
   ],
   "source": [
    "rem_cols"
   ]
  },
  {
   "cell_type": "code",
   "execution_count": 10,
   "metadata": {
    "collapsed": true
   },
   "outputs": [],
   "source": [
    "Loan['Monthly_Debt']= Loan['Monthly_Debt'].str.replace(',','').map(lambda x: x[1:]).astype('float')"
   ]
  },
  {
   "cell_type": "code",
   "execution_count": 11,
   "metadata": {
    "collapsed": true
   },
   "outputs": [],
   "source": [
    "Loan['Years_in_current_job'] = Loan['Years_in_current_job'].str.strip('+ years')\n",
    "Loan['Years_in_current_job'] = Loan['Years_in_current_job'].replace('< 1', 0)\n",
    "Loan['Years_in_current_job'] = Loan['Years_in_current_job'].replace('n/', 0)\n",
    "Loan['Years_in_current_job'] = Loan['Years_in_current_job'].astype('float64')"
   ]
  },
  {
   "cell_type": "code",
   "execution_count": 12,
   "metadata": {
    "collapsed": true
   },
   "outputs": [],
   "source": [
    "Loan['Maximum_Open_Credit']= Loan['Maximum_Open_Credit'].replace('#VALUE!',0).astype('float64')"
   ]
  },
  {
   "cell_type": "code",
   "execution_count": 13,
   "metadata": {
    "collapsed": true
   },
   "outputs": [],
   "source": [
    "#a=Loan['Loan_ID'].value_counts()\n",
    "#repeat_df = Loan[Loan['Loan_ID'].isin(a[a>1].index)]\n",
    "#unique_df = Loan.ix[list(set(Loan.index) - set(repeat_df.index))]"
   ]
  },
  {
   "cell_type": "code",
   "execution_count": 14,
   "metadata": {
    "collapsed": true
   },
   "outputs": [],
   "source": [
    "#c=Loan['Loan_ID'].value_counts()\n",
    "#repeat_df = Loan[Loan['Loan_ID'].isin(c[c>1].index)]\n",
    "#unique_df = Loan.ix[list(set(Loan.index) - set(repeat_df.index))]"
   ]
  },
  {
   "cell_type": "code",
   "execution_count": 15,
   "metadata": {
    "collapsed": true
   },
   "outputs": [],
   "source": [
    "a=Loan['Loan_ID'].value_counts()\n",
    "repeat_df = Loan[Loan['Loan_ID'].isin(a[a>1].index)]"
   ]
  },
  {
   "cell_type": "code",
   "execution_count": 16,
   "metadata": {},
   "outputs": [
    {
     "data": {
      "text/plain": [
       "(80464, 19)"
      ]
     },
     "execution_count": 16,
     "metadata": {},
     "output_type": "execute_result"
    }
   ],
   "source": [
    "repeat_df.shape"
   ]
  },
  {
   "cell_type": "code",
   "execution_count": 17,
   "metadata": {
    "scrolled": true
   },
   "outputs": [
    {
     "name": "stdout",
     "output_type": "stream",
     "text": [
      "<class 'pandas.core.frame.DataFrame'>\n",
      "Int64Index: 80464 entries, 6 to 256982\n",
      "Data columns (total 19 columns):\n",
      "Loan_ID                         80464 non-null object\n",
      "Customer_ID                     80464 non-null object\n",
      "Loan_Status                     80464 non-null object\n",
      "Current_Loan_Amount             80464 non-null int64\n",
      "Term                            80464 non-null object\n",
      "Credit_Score                    61075 non-null float64\n",
      "Years_in_current_job            80464 non-null float64\n",
      "Home_Ownership                  80464 non-null object\n",
      "Annual_Income                   61075 non-null float64\n",
      "Purpose                         80464 non-null object\n",
      "Monthly_Debt                    80464 non-null float64\n",
      "Years_of_Credit_History         80464 non-null float64\n",
      "Months_since_last_delinquent    37326 non-null float64\n",
      "Number_of_Open_Accounts         80464 non-null int64\n",
      "Number_of_Credit_Problems       80464 non-null int64\n",
      "Current_Credit_Balance          80464 non-null int64\n",
      "Maximum_Open_Credit             80464 non-null float64\n",
      "Bankruptcies                    80314 non-null float64\n",
      "Tax_Liens                       80462 non-null float64\n",
      "dtypes: float64(9), int64(4), object(6)\n",
      "memory usage: 12.3+ MB\n"
     ]
    }
   ],
   "source": [
    "repeat_df.info()"
   ]
  },
  {
   "cell_type": "code",
   "execution_count": 18,
   "metadata": {},
   "outputs": [
    {
     "name": "stderr",
     "output_type": "stream",
     "text": [
      "/Users/SKYLER/anaconda3/lib/python3.6/site-packages/ipykernel_launcher.py:1: DeprecationWarning: \n",
      ".ix is deprecated. Please use\n",
      ".loc for label based indexing or\n",
      ".iloc for positional indexing\n",
      "\n",
      "See the documentation here:\n",
      "http://pandas.pydata.org/pandas-docs/stable/indexing.html#ix-indexer-is-deprecated\n",
      "  \"\"\"Entry point for launching an IPython kernel.\n"
     ]
    }
   ],
   "source": [
    "unique_df = Loan.ix[list(set(Loan.index) - set(repeat_df.index))]"
   ]
  },
  {
   "cell_type": "code",
   "execution_count": 19,
   "metadata": {},
   "outputs": [
    {
     "data": {
      "text/plain": [
       "((176520, 19), (80464, 19))"
      ]
     },
     "execution_count": 19,
     "metadata": {},
     "output_type": "execute_result"
    }
   ],
   "source": [
    "unique_df.shape, repeat_df.shape"
   ]
  },
  {
   "cell_type": "code",
   "execution_count": 20,
   "metadata": {},
   "outputs": [
    {
     "data": {
      "text/html": [
       "<div>\n",
       "<style>\n",
       "    .dataframe thead tr:only-child th {\n",
       "        text-align: right;\n",
       "    }\n",
       "\n",
       "    .dataframe thead th {\n",
       "        text-align: left;\n",
       "    }\n",
       "\n",
       "    .dataframe tbody tr th {\n",
       "        vertical-align: top;\n",
       "    }\n",
       "</style>\n",
       "<table border=\"1\" class=\"dataframe\">\n",
       "  <thead>\n",
       "    <tr style=\"text-align: right;\">\n",
       "      <th></th>\n",
       "      <th>Loan_ID</th>\n",
       "      <th>Customer_ID</th>\n",
       "      <th>Loan_Status</th>\n",
       "      <th>Current_Loan_Amount</th>\n",
       "      <th>Term</th>\n",
       "      <th>Credit_Score</th>\n",
       "      <th>Years_in_current_job</th>\n",
       "      <th>Home_Ownership</th>\n",
       "      <th>Annual_Income</th>\n",
       "      <th>Purpose</th>\n",
       "      <th>Monthly_Debt</th>\n",
       "      <th>Years_of_Credit_History</th>\n",
       "      <th>Months_since_last_delinquent</th>\n",
       "      <th>Number_of_Open_Accounts</th>\n",
       "      <th>Number_of_Credit_Problems</th>\n",
       "      <th>Current_Credit_Balance</th>\n",
       "      <th>Maximum_Open_Credit</th>\n",
       "      <th>Bankruptcies</th>\n",
       "      <th>Tax_Liens</th>\n",
       "    </tr>\n",
       "  </thead>\n",
       "  <tbody>\n",
       "    <tr>\n",
       "      <th>0</th>\n",
       "      <td>000025bb-5694-4cff-b17d-192b1a98ba44</td>\n",
       "      <td>5ebc8bb1-5eb9-4404-b11b-a6eebc401a19</td>\n",
       "      <td>Fully Paid</td>\n",
       "      <td>11520</td>\n",
       "      <td>Short Term</td>\n",
       "      <td>741.0</td>\n",
       "      <td>10.0</td>\n",
       "      <td>Home Mortgage</td>\n",
       "      <td>33694.0</td>\n",
       "      <td>Debt Consolidation</td>\n",
       "      <td>584.03</td>\n",
       "      <td>12.3</td>\n",
       "      <td>41.0</td>\n",
       "      <td>10</td>\n",
       "      <td>0</td>\n",
       "      <td>6760</td>\n",
       "      <td>16056.0</td>\n",
       "      <td>0.0</td>\n",
       "      <td>0.0</td>\n",
       "    </tr>\n",
       "    <tr>\n",
       "      <th>1</th>\n",
       "      <td>00002c49-3a29-4bd4-8f67-c8f8fbc1048c</td>\n",
       "      <td>927b388d-2e01-423f-a8dc-f7e42d668f46</td>\n",
       "      <td>Fully Paid</td>\n",
       "      <td>3441</td>\n",
       "      <td>Short Term</td>\n",
       "      <td>734.0</td>\n",
       "      <td>4.0</td>\n",
       "      <td>Home Mortgage</td>\n",
       "      <td>42269.0</td>\n",
       "      <td>other</td>\n",
       "      <td>1106.04</td>\n",
       "      <td>26.3</td>\n",
       "      <td>NaN</td>\n",
       "      <td>17</td>\n",
       "      <td>0</td>\n",
       "      <td>6262</td>\n",
       "      <td>19149.0</td>\n",
       "      <td>0.0</td>\n",
       "      <td>0.0</td>\n",
       "    </tr>\n",
       "    <tr>\n",
       "      <th>2</th>\n",
       "      <td>00002d89-27f3-409b-aa76-90834f359a65</td>\n",
       "      <td>defce609-c631-447d-aad6-1270615e89c4</td>\n",
       "      <td>Fully Paid</td>\n",
       "      <td>21029</td>\n",
       "      <td>Short Term</td>\n",
       "      <td>747.0</td>\n",
       "      <td>10.0</td>\n",
       "      <td>Home Mortgage</td>\n",
       "      <td>90126.0</td>\n",
       "      <td>Debt Consolidation</td>\n",
       "      <td>1321.85</td>\n",
       "      <td>28.8</td>\n",
       "      <td>NaN</td>\n",
       "      <td>5</td>\n",
       "      <td>0</td>\n",
       "      <td>20967</td>\n",
       "      <td>28335.0</td>\n",
       "      <td>0.0</td>\n",
       "      <td>0.0</td>\n",
       "    </tr>\n",
       "    <tr>\n",
       "      <th>3</th>\n",
       "      <td>00005222-b4d8-45a4-ad8c-186057e24233</td>\n",
       "      <td>070bcecb-aae7-4485-a26a-e0403e7bb6c5</td>\n",
       "      <td>Fully Paid</td>\n",
       "      <td>18743</td>\n",
       "      <td>Short Term</td>\n",
       "      <td>747.0</td>\n",
       "      <td>10.0</td>\n",
       "      <td>Own Home</td>\n",
       "      <td>38072.0</td>\n",
       "      <td>Debt Consolidation</td>\n",
       "      <td>751.92</td>\n",
       "      <td>26.2</td>\n",
       "      <td>NaN</td>\n",
       "      <td>9</td>\n",
       "      <td>0</td>\n",
       "      <td>22529</td>\n",
       "      <td>43915.0</td>\n",
       "      <td>0.0</td>\n",
       "      <td>0.0</td>\n",
       "    </tr>\n",
       "    <tr>\n",
       "      <th>4</th>\n",
       "      <td>0000757f-a121-41ed-b17b-162e76647c1f</td>\n",
       "      <td>dde79588-12f0-4811-bab0-e2b07f633fcd</td>\n",
       "      <td>Fully Paid</td>\n",
       "      <td>11731</td>\n",
       "      <td>Short Term</td>\n",
       "      <td>746.0</td>\n",
       "      <td>4.0</td>\n",
       "      <td>Rent</td>\n",
       "      <td>50025.0</td>\n",
       "      <td>Debt Consolidation</td>\n",
       "      <td>355.18</td>\n",
       "      <td>11.5</td>\n",
       "      <td>NaN</td>\n",
       "      <td>12</td>\n",
       "      <td>0</td>\n",
       "      <td>17391</td>\n",
       "      <td>37081.0</td>\n",
       "      <td>0.0</td>\n",
       "      <td>0.0</td>\n",
       "    </tr>\n",
       "  </tbody>\n",
       "</table>\n",
       "</div>"
      ],
      "text/plain": [
       "                                Loan_ID                           Customer_ID  \\\n",
       "0  000025bb-5694-4cff-b17d-192b1a98ba44  5ebc8bb1-5eb9-4404-b11b-a6eebc401a19   \n",
       "1  00002c49-3a29-4bd4-8f67-c8f8fbc1048c  927b388d-2e01-423f-a8dc-f7e42d668f46   \n",
       "2  00002d89-27f3-409b-aa76-90834f359a65  defce609-c631-447d-aad6-1270615e89c4   \n",
       "3  00005222-b4d8-45a4-ad8c-186057e24233  070bcecb-aae7-4485-a26a-e0403e7bb6c5   \n",
       "4  0000757f-a121-41ed-b17b-162e76647c1f  dde79588-12f0-4811-bab0-e2b07f633fcd   \n",
       "\n",
       "  Loan_Status  Current_Loan_Amount        Term  Credit_Score  \\\n",
       "0  Fully Paid                11520  Short Term         741.0   \n",
       "1  Fully Paid                 3441  Short Term         734.0   \n",
       "2  Fully Paid                21029  Short Term         747.0   \n",
       "3  Fully Paid                18743  Short Term         747.0   \n",
       "4  Fully Paid                11731  Short Term         746.0   \n",
       "\n",
       "   Years_in_current_job Home_Ownership  Annual_Income             Purpose  \\\n",
       "0                  10.0  Home Mortgage        33694.0  Debt Consolidation   \n",
       "1                   4.0  Home Mortgage        42269.0               other   \n",
       "2                  10.0  Home Mortgage        90126.0  Debt Consolidation   \n",
       "3                  10.0       Own Home        38072.0  Debt Consolidation   \n",
       "4                   4.0           Rent        50025.0  Debt Consolidation   \n",
       "\n",
       "   Monthly_Debt  Years_of_Credit_History  Months_since_last_delinquent  \\\n",
       "0        584.03                     12.3                          41.0   \n",
       "1       1106.04                     26.3                           NaN   \n",
       "2       1321.85                     28.8                           NaN   \n",
       "3        751.92                     26.2                           NaN   \n",
       "4        355.18                     11.5                           NaN   \n",
       "\n",
       "   Number_of_Open_Accounts  Number_of_Credit_Problems  Current_Credit_Balance  \\\n",
       "0                       10                          0                    6760   \n",
       "1                       17                          0                    6262   \n",
       "2                        5                          0                   20967   \n",
       "3                        9                          0                   22529   \n",
       "4                       12                          0                   17391   \n",
       "\n",
       "   Maximum_Open_Credit  Bankruptcies  Tax_Liens  \n",
       "0              16056.0           0.0        0.0  \n",
       "1              19149.0           0.0        0.0  \n",
       "2              28335.0           0.0        0.0  \n",
       "3              43915.0           0.0        0.0  \n",
       "4              37081.0           0.0        0.0  "
      ]
     },
     "execution_count": 20,
     "metadata": {},
     "output_type": "execute_result"
    }
   ],
   "source": [
    "unique_df.head()"
   ]
  },
  {
   "cell_type": "code",
   "execution_count": 21,
   "metadata": {
    "collapsed": true
   },
   "outputs": [],
   "source": [
    "c=repeat_df[cols]"
   ]
  },
  {
   "cell_type": "code",
   "execution_count": 22,
   "metadata": {},
   "outputs": [
    {
     "data": {
      "text/plain": [
       "(80464, 6)"
      ]
     },
     "execution_count": 22,
     "metadata": {},
     "output_type": "execute_result"
    }
   ],
   "source": [
    "c.shape"
   ]
  },
  {
   "cell_type": "code",
   "execution_count": 23,
   "metadata": {
    "scrolled": true
   },
   "outputs": [
    {
     "data": {
      "text/plain": [
       "bbde3b1b-bba8-4721-a5a7-44caef34cd9a    4\n",
       "68e55709-e534-4d63-8c22-f025b052fe50    4\n",
       "1f2e8a5e-a191-4c09-b749-298825dec764    4\n",
       "64a69ecc-607d-4840-a093-e651da6ce830    4\n",
       "26950f0b-bb37-4e17-a86f-52c6d01db2aa    4\n",
       "de31127c-e891-42f8-9fdd-cf8bbfcda6ec    4\n",
       "bdefba89-b59c-416b-9d21-d4b1aced6533    4\n",
       "3c275ed7-1f5e-4693-b8cc-350e120e1718    4\n",
       "c4a4c234-355d-4aac-835d-a3ea84fe0ba6    4\n",
       "9aa5a9c3-eb3d-4c4d-b8a6-8cf5b18d4b28    4\n",
       "3021285b-49a7-46d8-b9f5-07c030521e7b    4\n",
       "fe052871-6cfb-4e14-84a1-2e7ab999ab9e    4\n",
       "65602505-7fdb-45dc-af2f-4820718025cf    4\n",
       "80bf6f56-b3f3-41d8-bb26-191ead5a8a4c    4\n",
       "054909cf-95d1-4031-b253-875c95c0624a    4\n",
       "96c68c2d-439e-4978-be81-565ce4226c72    4\n",
       "0ff281c9-ee30-4fba-a993-8408437ed498    4\n",
       "9a50f293-6497-4a16-9bac-43c45a055934    4\n",
       "2f7500e8-695a-4d4d-b91c-bdfaedb06745    4\n",
       "3e29597b-23b4-4cf2-8db0-c2df22091403    4\n",
       "d1177e5a-5127-46da-bff0-718d8e66c125    4\n",
       "8a036c7c-9836-4763-8f69-980b23e3f381    4\n",
       "445c3b21-316c-48e2-ae59-468652453660    4\n",
       "9d2f69fe-2035-4ef9-b3a8-614d7ef4464d    4\n",
       "66bb3e99-6468-4193-a7d3-4d0134581e30    4\n",
       "fff142bd-1430-4bb9-9eac-a5b45436a5b4    4\n",
       "28466f92-79fe-4198-a681-362561adc25c    4\n",
       "5f37f68e-80b0-4d15-9c1f-af5e5070e79b    4\n",
       "cc81f937-d6a1-4b9c-a52b-06aca8856738    4\n",
       "810e9070-118c-4e6d-bc03-210718e27a9f    4\n",
       "                                       ..\n",
       "9c500dc2-3c9e-4893-b25b-779ec3483780    2\n",
       "e5cceff2-0fb3-4ccb-991d-9eb0368eec9c    2\n",
       "6bb08cf6-bd2c-4892-b80f-bad9614a006b    2\n",
       "3e194dfd-6379-44f0-804e-538af6f72bce    2\n",
       "5457fa2b-9c5d-47fd-a3d7-275985be5127    2\n",
       "dbdeec41-5d95-4f04-b591-7c79f1ab6349    2\n",
       "37cb350d-0dc9-4257-99d1-5517745aa144    2\n",
       "5402b84f-7e36-44e5-b125-12723cdfb335    2\n",
       "e2ebbbee-a2f9-4a6d-9d19-f0f6bc1e27ee    2\n",
       "b41fae05-6afe-4ec8-9740-437fbf16eb9e    2\n",
       "ceb727a1-0179-4b2a-a4be-26e8d27c44ce    2\n",
       "fb33adb5-c0dc-4ea0-818c-73d237fb905d    2\n",
       "771598a7-8414-412c-b0fb-bab2d6338cd3    2\n",
       "22adc40f-378b-4eb8-9a9c-07fedeb6810e    2\n",
       "06b0a454-8118-494e-a855-b0992dc922a1    2\n",
       "e26c6231-ea74-4c0c-8cad-83da527d158f    2\n",
       "a949d083-c255-48d3-b088-70eb1e48fa0a    2\n",
       "a5cb9cd6-a551-42a0-9464-9bca2db8e2f4    2\n",
       "cbf96790-890e-4e86-a5bb-e292dcb037e5    2\n",
       "9b25873e-b030-4898-9169-ae3774587fa3    2\n",
       "ead38754-5d9f-4443-963a-c1e9f30de4a1    2\n",
       "066c717b-f0f5-4547-b22f-2094dc72155d    2\n",
       "ace14a4d-5de5-47ff-88ef-4f2aa61f398e    2\n",
       "6393fa1c-9116-4869-aa94-bcb424bbdf0d    2\n",
       "0f146b6a-5c95-4ea3-a519-48a4b42b62ef    2\n",
       "e4392797-f11b-4483-b5f7-ee4c4341ff98    2\n",
       "77d1899a-1949-4e76-baab-5bd2b5d63882    2\n",
       "178a8add-1481-4245-b468-dbe39153e975    2\n",
       "bf4295b3-58a4-44b0-923c-c2d601efbc01    2\n",
       "6e5e4a71-1e49-414c-bc28-1e1abdc861ae    2\n",
       "Name: Loan_ID, Length: 39180, dtype: int64"
      ]
     },
     "execution_count": 23,
     "metadata": {},
     "output_type": "execute_result"
    }
   ],
   "source": [
    "c.Loan_ID.value_counts()"
   ]
  },
  {
   "cell_type": "code",
   "execution_count": 24,
   "metadata": {
    "collapsed": true
   },
   "outputs": [],
   "source": [
    "d=repeat_df[rem_cols]"
   ]
  },
  {
   "cell_type": "code",
   "execution_count": 25,
   "metadata": {},
   "outputs": [
    {
     "data": {
      "text/plain": [
       "(80464, 14)"
      ]
     },
     "execution_count": 25,
     "metadata": {},
     "output_type": "execute_result"
    }
   ],
   "source": [
    "d.shape"
   ]
  },
  {
   "cell_type": "code",
   "execution_count": 26,
   "metadata": {},
   "outputs": [
    {
     "data": {
      "text/html": [
       "<div>\n",
       "<style>\n",
       "    .dataframe thead tr:only-child th {\n",
       "        text-align: right;\n",
       "    }\n",
       "\n",
       "    .dataframe thead th {\n",
       "        text-align: left;\n",
       "    }\n",
       "\n",
       "    .dataframe tbody tr th {\n",
       "        vertical-align: top;\n",
       "    }\n",
       "</style>\n",
       "<table border=\"1\" class=\"dataframe\">\n",
       "  <thead>\n",
       "    <tr style=\"text-align: right;\">\n",
       "      <th></th>\n",
       "      <th>Loan_ID</th>\n",
       "      <th>Current_Loan_Amount</th>\n",
       "      <th>Credit_Score</th>\n",
       "      <th>Years_in_current_job</th>\n",
       "      <th>Annual_Income</th>\n",
       "      <th>Monthly_Debt</th>\n",
       "      <th>Years_of_Credit_History</th>\n",
       "      <th>Months_since_last_delinquent</th>\n",
       "      <th>Number_of_Open_Accounts</th>\n",
       "      <th>Number_of_Credit_Problems</th>\n",
       "      <th>Current_Credit_Balance</th>\n",
       "      <th>Maximum_Open_Credit</th>\n",
       "      <th>Bankruptcies</th>\n",
       "      <th>Tax_Liens</th>\n",
       "    </tr>\n",
       "  </thead>\n",
       "  <tbody>\n",
       "    <tr>\n",
       "      <th>6</th>\n",
       "      <td>0000afa6-8902-4f8f-b870-25a8fdad0aeb</td>\n",
       "      <td>24613</td>\n",
       "      <td>6640.0</td>\n",
       "      <td>6.0</td>\n",
       "      <td>49225.0</td>\n",
       "      <td>542.29</td>\n",
       "      <td>17.6</td>\n",
       "      <td>73.0</td>\n",
       "      <td>7</td>\n",
       "      <td>0</td>\n",
       "      <td>14123</td>\n",
       "      <td>16954.0</td>\n",
       "      <td>0.0</td>\n",
       "      <td>0.0</td>\n",
       "    </tr>\n",
       "    <tr>\n",
       "      <th>7</th>\n",
       "      <td>0000afa6-8902-4f8f-b870-25a8fdad0aeb</td>\n",
       "      <td>24613</td>\n",
       "      <td>NaN</td>\n",
       "      <td>6.0</td>\n",
       "      <td>NaN</td>\n",
       "      <td>542.29</td>\n",
       "      <td>17.6</td>\n",
       "      <td>73.0</td>\n",
       "      <td>7</td>\n",
       "      <td>0</td>\n",
       "      <td>14123</td>\n",
       "      <td>16954.0</td>\n",
       "      <td>0.0</td>\n",
       "      <td>0.0</td>\n",
       "    </tr>\n",
       "    <tr>\n",
       "      <th>12</th>\n",
       "      <td>00029f9f-0cc5-4d4e-aabc-ea4a7fe74e12</td>\n",
       "      <td>17980</td>\n",
       "      <td>NaN</td>\n",
       "      <td>0.0</td>\n",
       "      <td>NaN</td>\n",
       "      <td>597.50</td>\n",
       "      <td>9.9</td>\n",
       "      <td>43.0</td>\n",
       "      <td>7</td>\n",
       "      <td>0</td>\n",
       "      <td>6817</td>\n",
       "      <td>22800.0</td>\n",
       "      <td>0.0</td>\n",
       "      <td>0.0</td>\n",
       "    </tr>\n",
       "    <tr>\n",
       "      <th>13</th>\n",
       "      <td>00029f9f-0cc5-4d4e-aabc-ea4a7fe74e12</td>\n",
       "      <td>17961</td>\n",
       "      <td>701.0</td>\n",
       "      <td>0.0</td>\n",
       "      <td>53053.0</td>\n",
       "      <td>596.85</td>\n",
       "      <td>9.9</td>\n",
       "      <td>43.0</td>\n",
       "      <td>7</td>\n",
       "      <td>0</td>\n",
       "      <td>6810</td>\n",
       "      <td>22775.0</td>\n",
       "      <td>0.0</td>\n",
       "      <td>0.0</td>\n",
       "    </tr>\n",
       "    <tr>\n",
       "      <th>14</th>\n",
       "      <td>00029f9f-0cc5-4d4e-aabc-ea4a7fe74e12</td>\n",
       "      <td>17961</td>\n",
       "      <td>701.0</td>\n",
       "      <td>0.0</td>\n",
       "      <td>53053.0</td>\n",
       "      <td>596.85</td>\n",
       "      <td>9.9</td>\n",
       "      <td>43.0</td>\n",
       "      <td>7</td>\n",
       "      <td>0</td>\n",
       "      <td>6810</td>\n",
       "      <td>22775.0</td>\n",
       "      <td>0.0</td>\n",
       "      <td>0.0</td>\n",
       "    </tr>\n",
       "  </tbody>\n",
       "</table>\n",
       "</div>"
      ],
      "text/plain": [
       "                                 Loan_ID  Current_Loan_Amount  Credit_Score  \\\n",
       "6   0000afa6-8902-4f8f-b870-25a8fdad0aeb                24613        6640.0   \n",
       "7   0000afa6-8902-4f8f-b870-25a8fdad0aeb                24613           NaN   \n",
       "12  00029f9f-0cc5-4d4e-aabc-ea4a7fe74e12                17980           NaN   \n",
       "13  00029f9f-0cc5-4d4e-aabc-ea4a7fe74e12                17961         701.0   \n",
       "14  00029f9f-0cc5-4d4e-aabc-ea4a7fe74e12                17961         701.0   \n",
       "\n",
       "    Years_in_current_job  Annual_Income  Monthly_Debt  \\\n",
       "6                    6.0        49225.0        542.29   \n",
       "7                    6.0            NaN        542.29   \n",
       "12                   0.0            NaN        597.50   \n",
       "13                   0.0        53053.0        596.85   \n",
       "14                   0.0        53053.0        596.85   \n",
       "\n",
       "    Years_of_Credit_History  Months_since_last_delinquent  \\\n",
       "6                      17.6                          73.0   \n",
       "7                      17.6                          73.0   \n",
       "12                      9.9                          43.0   \n",
       "13                      9.9                          43.0   \n",
       "14                      9.9                          43.0   \n",
       "\n",
       "    Number_of_Open_Accounts  Number_of_Credit_Problems  \\\n",
       "6                         7                          0   \n",
       "7                         7                          0   \n",
       "12                        7                          0   \n",
       "13                        7                          0   \n",
       "14                        7                          0   \n",
       "\n",
       "    Current_Credit_Balance  Maximum_Open_Credit  Bankruptcies  Tax_Liens  \n",
       "6                    14123              16954.0           0.0        0.0  \n",
       "7                    14123              16954.0           0.0        0.0  \n",
       "12                    6817              22800.0           0.0        0.0  \n",
       "13                    6810              22775.0           0.0        0.0  \n",
       "14                    6810              22775.0           0.0        0.0  "
      ]
     },
     "execution_count": 26,
     "metadata": {},
     "output_type": "execute_result"
    }
   ],
   "source": [
    "d.head()"
   ]
  },
  {
   "cell_type": "code",
   "execution_count": 27,
   "metadata": {},
   "outputs": [
    {
     "data": {
      "text/html": [
       "<div>\n",
       "<style>\n",
       "    .dataframe thead tr:only-child th {\n",
       "        text-align: right;\n",
       "    }\n",
       "\n",
       "    .dataframe thead th {\n",
       "        text-align: left;\n",
       "    }\n",
       "\n",
       "    .dataframe tbody tr th {\n",
       "        vertical-align: top;\n",
       "    }\n",
       "</style>\n",
       "<table border=\"1\" class=\"dataframe\">\n",
       "  <thead>\n",
       "    <tr style=\"text-align: right;\">\n",
       "      <th></th>\n",
       "      <th>Loan_ID</th>\n",
       "      <th>Customer_ID</th>\n",
       "      <th>Loan_Status</th>\n",
       "      <th>Term</th>\n",
       "      <th>Home_Ownership</th>\n",
       "      <th>Purpose</th>\n",
       "    </tr>\n",
       "  </thead>\n",
       "  <tbody>\n",
       "    <tr>\n",
       "      <th>6</th>\n",
       "      <td>0000afa6-8902-4f8f-b870-25a8fdad0aeb</td>\n",
       "      <td>e49c1a82-a0f7-45e8-9f46-2f75c43f9fbc</td>\n",
       "      <td>Charged Off</td>\n",
       "      <td>Long Term</td>\n",
       "      <td>Rent</td>\n",
       "      <td>Business Loan</td>\n",
       "    </tr>\n",
       "    <tr>\n",
       "      <th>7</th>\n",
       "      <td>0000afa6-8902-4f8f-b870-25a8fdad0aeb</td>\n",
       "      <td>e49c1a82-a0f7-45e8-9f46-2f75c43f9fbc</td>\n",
       "      <td>Charged Off</td>\n",
       "      <td>Long Term</td>\n",
       "      <td>Rent</td>\n",
       "      <td>Business Loan</td>\n",
       "    </tr>\n",
       "    <tr>\n",
       "      <th>12</th>\n",
       "      <td>00029f9f-0cc5-4d4e-aabc-ea4a7fe74e12</td>\n",
       "      <td>afbc2fa3-3bad-4d48-b691-829aed78bad5</td>\n",
       "      <td>Charged Off</td>\n",
       "      <td>Short Term</td>\n",
       "      <td>Own Home</td>\n",
       "      <td>Debt Consolidation</td>\n",
       "    </tr>\n",
       "    <tr>\n",
       "      <th>13</th>\n",
       "      <td>00029f9f-0cc5-4d4e-aabc-ea4a7fe74e12</td>\n",
       "      <td>afbc2fa3-3bad-4d48-b691-829aed78bad5</td>\n",
       "      <td>Charged Off</td>\n",
       "      <td>Short Term</td>\n",
       "      <td>Own Home</td>\n",
       "      <td>Debt Consolidation</td>\n",
       "    </tr>\n",
       "    <tr>\n",
       "      <th>14</th>\n",
       "      <td>00029f9f-0cc5-4d4e-aabc-ea4a7fe74e12</td>\n",
       "      <td>afbc2fa3-3bad-4d48-b691-829aed78bad5</td>\n",
       "      <td>Charged Off</td>\n",
       "      <td>Short Term</td>\n",
       "      <td>Own Home</td>\n",
       "      <td>Debt Consolidation</td>\n",
       "    </tr>\n",
       "  </tbody>\n",
       "</table>\n",
       "</div>"
      ],
      "text/plain": [
       "                                 Loan_ID  \\\n",
       "6   0000afa6-8902-4f8f-b870-25a8fdad0aeb   \n",
       "7   0000afa6-8902-4f8f-b870-25a8fdad0aeb   \n",
       "12  00029f9f-0cc5-4d4e-aabc-ea4a7fe74e12   \n",
       "13  00029f9f-0cc5-4d4e-aabc-ea4a7fe74e12   \n",
       "14  00029f9f-0cc5-4d4e-aabc-ea4a7fe74e12   \n",
       "\n",
       "                             Customer_ID  Loan_Status        Term  \\\n",
       "6   e49c1a82-a0f7-45e8-9f46-2f75c43f9fbc  Charged Off   Long Term   \n",
       "7   e49c1a82-a0f7-45e8-9f46-2f75c43f9fbc  Charged Off   Long Term   \n",
       "12  afbc2fa3-3bad-4d48-b691-829aed78bad5  Charged Off  Short Term   \n",
       "13  afbc2fa3-3bad-4d48-b691-829aed78bad5  Charged Off  Short Term   \n",
       "14  afbc2fa3-3bad-4d48-b691-829aed78bad5  Charged Off  Short Term   \n",
       "\n",
       "   Home_Ownership             Purpose  \n",
       "6            Rent       Business Loan  \n",
       "7            Rent       Business Loan  \n",
       "12       Own Home  Debt Consolidation  \n",
       "13       Own Home  Debt Consolidation  \n",
       "14       Own Home  Debt Consolidation  "
      ]
     },
     "execution_count": 27,
     "metadata": {},
     "output_type": "execute_result"
    }
   ],
   "source": [
    "c.head()"
   ]
  },
  {
   "cell_type": "code",
   "execution_count": 28,
   "metadata": {
    "collapsed": true
   },
   "outputs": [],
   "source": [
    "c=c.drop_duplicates()"
   ]
  },
  {
   "cell_type": "code",
   "execution_count": 29,
   "metadata": {},
   "outputs": [
    {
     "data": {
      "text/plain": [
       "(39180, 6)"
      ]
     },
     "execution_count": 29,
     "metadata": {},
     "output_type": "execute_result"
    }
   ],
   "source": [
    "c.shape"
   ]
  },
  {
   "cell_type": "code",
   "execution_count": 30,
   "metadata": {
    "collapsed": true
   },
   "outputs": [],
   "source": [
    "d=d.groupby('Loan_ID').mean()"
   ]
  },
  {
   "cell_type": "code",
   "execution_count": 31,
   "metadata": {
    "collapsed": true
   },
   "outputs": [],
   "source": [
    "d=d.reset_index(0)"
   ]
  },
  {
   "cell_type": "code",
   "execution_count": 32,
   "metadata": {},
   "outputs": [
    {
     "data": {
      "text/plain": [
       "(39180, 14)"
      ]
     },
     "execution_count": 32,
     "metadata": {},
     "output_type": "execute_result"
    }
   ],
   "source": [
    "d.shape"
   ]
  },
  {
   "cell_type": "code",
   "execution_count": 33,
   "metadata": {},
   "outputs": [
    {
     "name": "stdout",
     "output_type": "stream",
     "text": [
      "<class 'pandas.core.frame.DataFrame'>\n",
      "RangeIndex: 39180 entries, 0 to 39179\n",
      "Data columns (total 14 columns):\n",
      "Loan_ID                         39180 non-null object\n",
      "Current_Loan_Amount             39180 non-null float64\n",
      "Credit_Score                    36969 non-null float64\n",
      "Years_in_current_job            39180 non-null float64\n",
      "Annual_Income                   36969 non-null float64\n",
      "Monthly_Debt                    39180 non-null float64\n",
      "Years_of_Credit_History         39180 non-null float64\n",
      "Months_since_last_delinquent    18163 non-null float64\n",
      "Number_of_Open_Accounts         39180 non-null float64\n",
      "Number_of_Credit_Problems       39180 non-null float64\n",
      "Current_Credit_Balance          39180 non-null float64\n",
      "Maximum_Open_Credit             39180 non-null float64\n",
      "Bankruptcies                    39107 non-null float64\n",
      "Tax_Liens                       39179 non-null float64\n",
      "dtypes: float64(13), object(1)\n",
      "memory usage: 4.2+ MB\n"
     ]
    }
   ],
   "source": [
    "d.info()"
   ]
  },
  {
   "cell_type": "code",
   "execution_count": 34,
   "metadata": {},
   "outputs": [
    {
     "data": {
      "text/plain": [
       "bcf0cbfd-ebdc-4e44-9cc6-2682e4dd9001    1\n",
       "729cdd57-632e-4bb1-81a6-5eb87252000b    1\n",
       "728ff34e-3458-45b0-8823-7fc25237a584    1\n",
       "9f2f85bd-d831-4607-ae2b-73364ff59173    1\n",
       "532f91bb-0863-4dfb-9e2e-f9e8961ff630    1\n",
       "457bb082-aacc-4dea-82eb-9024dcaad5fa    1\n",
       "395a6351-046c-4d3c-a2c2-f97cceba1dc5    1\n",
       "578f3a58-d627-44ec-83b8-8a0248e96372    1\n",
       "5f9e191b-89b9-4d4d-a8dd-1bd85f62f16a    1\n",
       "9ae0a455-d6c0-41f2-8ed9-8ed75924e9ac    1\n",
       "be9b375d-04a4-4b89-a8cc-f9ee8d107a74    1\n",
       "cf4e2082-cf86-43ec-84d5-f10b4c4a8d2f    1\n",
       "9ba6a056-2e29-4060-b233-c008ef42b509    1\n",
       "3be7706b-f1db-4a17-ae0b-993e61eb2d9e    1\n",
       "a33539bc-bc45-4f8a-9b61-32a728a90d56    1\n",
       "fd3159d7-066f-4b5b-a8bf-bba5d7e8326a    1\n",
       "91de7985-655c-4c81-a26f-da9281bd99e7    1\n",
       "680fdb47-2e87-4a81-8e0c-fcf5e253a27c    1\n",
       "021504f1-6476-4fd2-b055-4f1e2dcbb0c6    1\n",
       "cb3981f4-61e2-4daf-b22c-7734e91c24b4    1\n",
       "c132b246-bafe-4e3c-acd4-a31f80fbb706    1\n",
       "ba7fa320-06fd-4378-a888-83de6bfe8b6e    1\n",
       "b1385dad-5eb4-4f1f-ace4-4b13682da328    1\n",
       "367a8905-fa06-458c-af82-6fc63183a277    1\n",
       "27e5d8eb-f3a7-4c28-84f0-bd8e8ae6e9fd    1\n",
       "5cc6d2af-fe15-4461-9c5c-d1fa05cfff21    1\n",
       "40a41cac-1f6c-48e5-b7c2-a7114a524277    1\n",
       "c1f09527-8f20-4123-b08d-353408be71f9    1\n",
       "18dcaf40-6051-44e3-9873-8a2a00ca20a9    1\n",
       "71b5b790-64d2-4d50-ad4d-6c76fc78fb9c    1\n",
       "                                       ..\n",
       "0b1f9ce9-a986-4d95-a9f9-489226451ec8    1\n",
       "6600107b-1e65-4a82-9173-c5957b3a4095    1\n",
       "0ab8280f-409c-488d-9049-eccf3744eaea    1\n",
       "2c97c781-f351-4ded-9de6-26c1b4e71f00    1\n",
       "0e747020-90bc-4502-8d3e-0030b479d9c2    1\n",
       "5a75a462-0633-4fdc-9b56-3af92ba1fcbe    1\n",
       "6d7e5b2b-7826-4372-90b2-a3f44eb8c670    1\n",
       "6f59c4fd-7af5-4dd1-b1d4-7f8b3d54ad6d    1\n",
       "1bcb136d-c2e7-4e16-ab60-0f11e07c1900    1\n",
       "8f33c1f1-68fe-4eb3-aa10-6280eed277d4    1\n",
       "61786056-e8eb-42c9-8f27-63ec6b1ab66a    1\n",
       "1f99097f-7c45-4232-a168-69f4bdac72a7    1\n",
       "9d4f8cc3-0831-4892-96ea-dd4c775a8ebc    1\n",
       "6e95cd12-b1bb-4f11-baee-076c882c32e1    1\n",
       "63354517-90cb-448a-aa98-5d6e695737d6    1\n",
       "dd2a09f5-eaf2-4ac0-9de3-ba663a532c26    1\n",
       "02191482-b490-41a0-bc1e-1ae92fa9ea85    1\n",
       "e80c549b-6a5b-4434-8e53-a3270635d740    1\n",
       "b3c876f0-cfc7-4c5c-842a-de3b8fcf8ea9    1\n",
       "82564c9e-9e23-4948-a825-4fb86df8aff1    1\n",
       "1db8dec2-72df-4c4d-ae9b-0119441e4068    1\n",
       "f843d484-5750-46be-a431-79d2d1f8f7c5    1\n",
       "06712985-0ccc-4c26-bb28-a54fcba3df20    1\n",
       "f7004e88-deb9-4c74-83f7-5deb5e14008d    1\n",
       "1f71ed7b-6e8a-463a-9cf3-73facb1005d3    1\n",
       "c0629d6c-f113-4ddb-a160-fd3561071843    1\n",
       "d4653968-0cd8-49f8-8d45-1796959106c3    1\n",
       "98f1645b-5913-4711-80be-b23b5b67f0d5    1\n",
       "93a891f3-4baa-42af-9f27-5c71fb9ef186    1\n",
       "6e5e4a71-1e49-414c-bc28-1e1abdc861ae    1\n",
       "Name: Loan_ID, Length: 39180, dtype: int64"
      ]
     },
     "execution_count": 34,
     "metadata": {},
     "output_type": "execute_result"
    }
   ],
   "source": [
    "c.Loan_ID.value_counts()"
   ]
  },
  {
   "cell_type": "code",
   "execution_count": 35,
   "metadata": {
    "collapsed": true
   },
   "outputs": [],
   "source": [
    "clean_df=c.merge(d,on='Loan_ID')"
   ]
  },
  {
   "cell_type": "code",
   "execution_count": 36,
   "metadata": {},
   "outputs": [
    {
     "name": "stdout",
     "output_type": "stream",
     "text": [
      "<class 'pandas.core.frame.DataFrame'>\n",
      "Int64Index: 39180 entries, 0 to 39179\n",
      "Data columns (total 19 columns):\n",
      "Loan_ID                         39180 non-null object\n",
      "Customer_ID                     39180 non-null object\n",
      "Loan_Status                     39180 non-null object\n",
      "Term                            39180 non-null object\n",
      "Home_Ownership                  39180 non-null object\n",
      "Purpose                         39180 non-null object\n",
      "Current_Loan_Amount             39180 non-null float64\n",
      "Credit_Score                    36969 non-null float64\n",
      "Years_in_current_job            39180 non-null float64\n",
      "Annual_Income                   36969 non-null float64\n",
      "Monthly_Debt                    39180 non-null float64\n",
      "Years_of_Credit_History         39180 non-null float64\n",
      "Months_since_last_delinquent    18163 non-null float64\n",
      "Number_of_Open_Accounts         39180 non-null float64\n",
      "Number_of_Credit_Problems       39180 non-null float64\n",
      "Current_Credit_Balance          39180 non-null float64\n",
      "Maximum_Open_Credit             39180 non-null float64\n",
      "Bankruptcies                    39107 non-null float64\n",
      "Tax_Liens                       39179 non-null float64\n",
      "dtypes: float64(13), object(6)\n",
      "memory usage: 6.0+ MB\n"
     ]
    }
   ],
   "source": [
    "clean_df.info()"
   ]
  },
  {
   "cell_type": "code",
   "execution_count": 37,
   "metadata": {
    "collapsed": true
   },
   "outputs": [],
   "source": [
    "prep=unique_df.append(clean_df,ignore_index=True)"
   ]
  },
  {
   "cell_type": "code",
   "execution_count": 38,
   "metadata": {
    "collapsed": true
   },
   "outputs": [],
   "source": [
    "prep=pd.DataFrame(prep,columns=Loan.columns)"
   ]
  },
  {
   "cell_type": "code",
   "execution_count": 39,
   "metadata": {},
   "outputs": [
    {
     "name": "stdout",
     "output_type": "stream",
     "text": [
      "<class 'pandas.core.frame.DataFrame'>\n",
      "RangeIndex: 215700 entries, 0 to 215699\n",
      "Data columns (total 19 columns):\n",
      "Loan_ID                         215700 non-null object\n",
      "Customer_ID                     215700 non-null object\n",
      "Loan_Status                     215700 non-null object\n",
      "Current_Loan_Amount             215700 non-null float64\n",
      "Term                            215700 non-null object\n",
      "Credit_Score                    171202 non-null float64\n",
      "Years_in_current_job            215700 non-null float64\n",
      "Home_Ownership                  215700 non-null object\n",
      "Annual_Income                   171202 non-null float64\n",
      "Purpose                         215700 non-null object\n",
      "Monthly_Debt                    215700 non-null float64\n",
      "Years_of_Credit_History         215700 non-null float64\n",
      "Months_since_last_delinquent    97438 non-null float64\n",
      "Number_of_Open_Accounts         215700 non-null float64\n",
      "Number_of_Credit_Problems       215700 non-null float64\n",
      "Current_Credit_Balance          215700 non-null float64\n",
      "Maximum_Open_Credit             215700 non-null float64\n",
      "Bankruptcies                    215248 non-null float64\n",
      "Tax_Liens                       215678 non-null float64\n",
      "dtypes: float64(13), object(6)\n",
      "memory usage: 31.3+ MB\n"
     ]
    },
    {
     "data": {
      "text/plain": [
       "(Loan_ID                              0\n",
       " Customer_ID                          0\n",
       " Loan_Status                          0\n",
       " Current_Loan_Amount                  0\n",
       " Term                                 0\n",
       " Credit_Score                     44498\n",
       " Years_in_current_job                 0\n",
       " Home_Ownership                       0\n",
       " Annual_Income                    44498\n",
       " Purpose                              0\n",
       " Monthly_Debt                         0\n",
       " Years_of_Credit_History              0\n",
       " Months_since_last_delinquent    118262\n",
       " Number_of_Open_Accounts              0\n",
       " Number_of_Credit_Problems            0\n",
       " Current_Credit_Balance               0\n",
       " Maximum_Open_Credit                  0\n",
       " Bankruptcies                       452\n",
       " Tax_Liens                           22\n",
       " dtype: int64, None)"
      ]
     },
     "execution_count": 39,
     "metadata": {},
     "output_type": "execute_result"
    }
   ],
   "source": [
    "pd.isnull(prep).sum(), prep.info()"
   ]
  },
  {
   "cell_type": "markdown",
   "metadata": {},
   "source": [
    "# Data Preparation"
   ]
  },
  {
   "cell_type": "code",
   "execution_count": 40,
   "metadata": {},
   "outputs": [
    {
     "name": "stdout",
     "output_type": "stream",
     "text": [
      "<class 'pandas.core.frame.DataFrame'>\n",
      "RangeIndex: 215700 entries, 0 to 215699\n",
      "Data columns (total 19 columns):\n",
      "Loan_ID                         215700 non-null object\n",
      "Customer_ID                     215700 non-null object\n",
      "Loan_Status                     215700 non-null object\n",
      "Current_Loan_Amount             215700 non-null float64\n",
      "Term                            215700 non-null object\n",
      "Credit_Score                    171202 non-null float64\n",
      "Years_in_current_job            215700 non-null float64\n",
      "Home_Ownership                  215700 non-null object\n",
      "Annual_Income                   171202 non-null float64\n",
      "Purpose                         215700 non-null object\n",
      "Monthly_Debt                    215700 non-null float64\n",
      "Years_of_Credit_History         215700 non-null float64\n",
      "Months_since_last_delinquent    97438 non-null float64\n",
      "Number_of_Open_Accounts         215700 non-null float64\n",
      "Number_of_Credit_Problems       215700 non-null float64\n",
      "Current_Credit_Balance          215700 non-null float64\n",
      "Maximum_Open_Credit             215700 non-null float64\n",
      "Bankruptcies                    215248 non-null float64\n",
      "Tax_Liens                       215678 non-null float64\n",
      "dtypes: float64(13), object(6)\n",
      "memory usage: 31.3+ MB\n"
     ]
    }
   ],
   "source": [
    "prep.info()"
   ]
  },
  {
   "cell_type": "code",
   "execution_count": 41,
   "metadata": {
    "collapsed": true
   },
   "outputs": [],
   "source": [
    "# Loan_Status"
   ]
  },
  {
   "cell_type": "code",
   "execution_count": 42,
   "metadata": {},
   "outputs": [
    {
     "data": {
      "text/plain": [
       "array(['Fully Paid', 'Charged Off'], dtype=object)"
      ]
     },
     "execution_count": 42,
     "metadata": {},
     "output_type": "execute_result"
    }
   ],
   "source": [
    "prep.Loan_Status.unique()"
   ]
  },
  {
   "cell_type": "code",
   "execution_count": 43,
   "metadata": {},
   "outputs": [
    {
     "data": {
      "text/plain": [
       "Fully Paid     176191\n",
       "Charged Off     39509\n",
       "Name: Loan_Status, dtype: int64"
      ]
     },
     "execution_count": 43,
     "metadata": {},
     "output_type": "execute_result"
    }
   ],
   "source": [
    "prep.Loan_Status.value_counts()"
   ]
  },
  {
   "cell_type": "code",
   "execution_count": 44,
   "metadata": {
    "collapsed": true
   },
   "outputs": [],
   "source": [
    "prep['Loan_Status']=prep['Loan_Status'].astype('object')"
   ]
  },
  {
   "cell_type": "code",
   "execution_count": 45,
   "metadata": {
    "collapsed": true
   },
   "outputs": [],
   "source": [
    "# Term"
   ]
  },
  {
   "cell_type": "code",
   "execution_count": 46,
   "metadata": {},
   "outputs": [
    {
     "data": {
      "text/plain": [
       "Short Term    166523\n",
       "Long Term      49177\n",
       "Name: Term, dtype: int64"
      ]
     },
     "execution_count": 46,
     "metadata": {},
     "output_type": "execute_result"
    }
   ],
   "source": [
    "prep.Term.value_counts()"
   ]
  },
  {
   "cell_type": "code",
   "execution_count": 47,
   "metadata": {},
   "outputs": [
    {
     "data": {
      "text/plain": [
       "Short Term    166523\n",
       "Long Term      49177\n",
       "Name: Term, dtype: int64"
      ]
     },
     "execution_count": 47,
     "metadata": {},
     "output_type": "execute_result"
    }
   ],
   "source": [
    "prep.Term.value_counts()"
   ]
  },
  {
   "cell_type": "code",
   "execution_count": 48,
   "metadata": {
    "collapsed": true
   },
   "outputs": [],
   "source": [
    "prep['Term']=prep['Term'].astype('object')"
   ]
  },
  {
   "cell_type": "code",
   "execution_count": 49,
   "metadata": {
    "collapsed": true
   },
   "outputs": [],
   "source": [
    "# Years_in_current_job"
   ]
  },
  {
   "cell_type": "code",
   "execution_count": 50,
   "metadata": {},
   "outputs": [
    {
     "data": {
      "text/plain": [
       "10.0    66711\n",
       "0.0     26534\n",
       "2.0     19831\n",
       "3.0     17428\n",
       "5.0     14987\n",
       "1.0     14130\n",
       "4.0     13632\n",
       "6.0     12230\n",
       "7.0     11713\n",
       "8.0     10232\n",
       "9.0      8272\n",
       "Name: Years_in_current_job, dtype: int64"
      ]
     },
     "execution_count": 50,
     "metadata": {},
     "output_type": "execute_result"
    }
   ],
   "source": [
    "prep.Years_in_current_job.value_counts()"
   ]
  },
  {
   "cell_type": "code",
   "execution_count": 51,
   "metadata": {
    "collapsed": true
   },
   "outputs": [],
   "source": [
    "prep['Years_in_current_job']=prep['Years_in_current_job'].astype('int')"
   ]
  },
  {
   "cell_type": "code",
   "execution_count": 52,
   "metadata": {
    "collapsed": true
   },
   "outputs": [],
   "source": [
    "prep['Years_in_current_job']=prep['Years_in_current_job'].astype('object')"
   ]
  },
  {
   "cell_type": "code",
   "execution_count": 53,
   "metadata": {},
   "outputs": [
    {
     "data": {
      "text/plain": [
       "Home Mortgage    106492\n",
       "Rent              89619\n",
       "Own Home          19094\n",
       "HaveMortgage        495\n",
       "Name: Home_Ownership, dtype: int64"
      ]
     },
     "execution_count": 53,
     "metadata": {},
     "output_type": "execute_result"
    }
   ],
   "source": [
    "prep.Home_Ownership.value_counts()"
   ]
  },
  {
   "cell_type": "code",
   "execution_count": 54,
   "metadata": {
    "collapsed": true
   },
   "outputs": [],
   "source": [
    "prep['Home_Ownership']=prep['Home_Ownership'].replace('HaveMortgage','Home Mortgage')"
   ]
  },
  {
   "cell_type": "code",
   "execution_count": 55,
   "metadata": {
    "collapsed": true
   },
   "outputs": [],
   "source": [
    "prep['Home_Ownership']=prep['Home_Ownership'].astype('object')"
   ]
  },
  {
   "cell_type": "code",
   "execution_count": 56,
   "metadata": {},
   "outputs": [
    {
     "data": {
      "text/plain": [
       "0.0     211881\n",
       "1.0       2701\n",
       "2.0        707\n",
       "3.0        195\n",
       "4.0         97\n",
       "5.0         48\n",
       "6.0         26\n",
       "8.0          7\n",
       "7.0          6\n",
       "9.0          5\n",
       "10.0         3\n",
       "11.0         2\n",
       "Name: Tax_Liens, dtype: int64"
      ]
     },
     "execution_count": 56,
     "metadata": {},
     "output_type": "execute_result"
    }
   ],
   "source": [
    "prep.Tax_Liens.value_counts()"
   ]
  },
  {
   "cell_type": "code",
   "execution_count": 57,
   "metadata": {
    "collapsed": true
   },
   "outputs": [],
   "source": [
    "prep.loc[prep['Credit_Score']>800,'Credit_Score'] = prep.loc[prep['Credit_Score']>800,'Credit_Score']/10"
   ]
  },
  {
   "cell_type": "code",
   "execution_count": 58,
   "metadata": {
    "collapsed": true
   },
   "outputs": [],
   "source": [
    "prep['Current_Loan_Amount']=prep['Current_Loan_Amount'].replace(99999999,0)"
   ]
  },
  {
   "cell_type": "code",
   "execution_count": 59,
   "metadata": {},
   "outputs": [
    {
     "data": {
      "text/html": [
       "<div>\n",
       "<style>\n",
       "    .dataframe thead tr:only-child th {\n",
       "        text-align: right;\n",
       "    }\n",
       "\n",
       "    .dataframe thead th {\n",
       "        text-align: left;\n",
       "    }\n",
       "\n",
       "    .dataframe tbody tr th {\n",
       "        vertical-align: top;\n",
       "    }\n",
       "</style>\n",
       "<table border=\"1\" class=\"dataframe\">\n",
       "  <thead>\n",
       "    <tr style=\"text-align: right;\">\n",
       "      <th></th>\n",
       "      <th>Current_Loan_Amount</th>\n",
       "      <th>Credit_Score</th>\n",
       "      <th>Annual_Income</th>\n",
       "      <th>Monthly_Debt</th>\n",
       "      <th>Years_of_Credit_History</th>\n",
       "      <th>Months_since_last_delinquent</th>\n",
       "      <th>Number_of_Open_Accounts</th>\n",
       "      <th>Number_of_Credit_Problems</th>\n",
       "      <th>Current_Credit_Balance</th>\n",
       "      <th>Maximum_Open_Credit</th>\n",
       "      <th>Bankruptcies</th>\n",
       "      <th>Tax_Liens</th>\n",
       "    </tr>\n",
       "  </thead>\n",
       "  <tbody>\n",
       "    <tr>\n",
       "      <th>count</th>\n",
       "      <td>215700.000000</td>\n",
       "      <td>171202.000000</td>\n",
       "      <td>1.712020e+05</td>\n",
       "      <td>215700.000000</td>\n",
       "      <td>215700.000000</td>\n",
       "      <td>97438.000000</td>\n",
       "      <td>215700.000000</td>\n",
       "      <td>215700.000000</td>\n",
       "      <td>2.157000e+05</td>\n",
       "      <td>2.157000e+05</td>\n",
       "      <td>215248.000000</td>\n",
       "      <td>215678.000000</td>\n",
       "    </tr>\n",
       "    <tr>\n",
       "      <th>mean</th>\n",
       "      <td>11552.860810</td>\n",
       "      <td>705.726902</td>\n",
       "      <td>7.280452e+04</td>\n",
       "      <td>960.395422</td>\n",
       "      <td>18.359758</td>\n",
       "      <td>35.031949</td>\n",
       "      <td>11.077566</td>\n",
       "      <td>0.155424</td>\n",
       "      <td>1.545720e+04</td>\n",
       "      <td>3.698346e+04</td>\n",
       "      <td>0.110556</td>\n",
       "      <td>0.026331</td>\n",
       "    </tr>\n",
       "    <tr>\n",
       "      <th>std</th>\n",
       "      <td>9083.482632</td>\n",
       "      <td>79.778205</td>\n",
       "      <td>5.730495e+04</td>\n",
       "      <td>634.781881</td>\n",
       "      <td>7.057999</td>\n",
       "      <td>21.810714</td>\n",
       "      <td>4.971825</td>\n",
       "      <td>0.457972</td>\n",
       "      <td>1.975033e+04</td>\n",
       "      <td>6.011777e+05</td>\n",
       "      <td>0.336853</td>\n",
       "      <td>0.240853</td>\n",
       "    </tr>\n",
       "    <tr>\n",
       "      <th>min</th>\n",
       "      <td>0.000000</td>\n",
       "      <td>204.750000</td>\n",
       "      <td>0.000000e+00</td>\n",
       "      <td>0.000000</td>\n",
       "      <td>3.400000</td>\n",
       "      <td>0.000000</td>\n",
       "      <td>0.000000</td>\n",
       "      <td>0.000000</td>\n",
       "      <td>0.000000e+00</td>\n",
       "      <td>0.000000e+00</td>\n",
       "      <td>0.000000</td>\n",
       "      <td>0.000000</td>\n",
       "    </tr>\n",
       "    <tr>\n",
       "      <th>25%</th>\n",
       "      <td>4888.000000</td>\n",
       "      <td>708.000000</td>\n",
       "      <td>4.476600e+04</td>\n",
       "      <td>527.680000</td>\n",
       "      <td>13.600000</td>\n",
       "      <td>17.000000</td>\n",
       "      <td>8.000000</td>\n",
       "      <td>0.000000</td>\n",
       "      <td>5.932000e+03</td>\n",
       "      <td>1.296100e+04</td>\n",
       "      <td>0.000000</td>\n",
       "      <td>0.000000</td>\n",
       "    </tr>\n",
       "    <tr>\n",
       "      <th>50%</th>\n",
       "      <td>10072.000000</td>\n",
       "      <td>731.000000</td>\n",
       "      <td>6.210500e+04</td>\n",
       "      <td>840.535000</td>\n",
       "      <td>17.000000</td>\n",
       "      <td>32.000000</td>\n",
       "      <td>10.000000</td>\n",
       "      <td>0.000000</td>\n",
       "      <td>1.104200e+04</td>\n",
       "      <td>2.206000e+04</td>\n",
       "      <td>0.000000</td>\n",
       "      <td>0.000000</td>\n",
       "    </tr>\n",
       "    <tr>\n",
       "      <th>75%</th>\n",
       "      <td>17100.000000</td>\n",
       "      <td>742.000000</td>\n",
       "      <td>8.779425e+04</td>\n",
       "      <td>1249.975000</td>\n",
       "      <td>21.800000</td>\n",
       "      <td>51.000000</td>\n",
       "      <td>14.000000</td>\n",
       "      <td>0.000000</td>\n",
       "      <td>1.932425e+04</td>\n",
       "      <td>3.681000e+04</td>\n",
       "      <td>0.000000</td>\n",
       "      <td>0.000000</td>\n",
       "    </tr>\n",
       "    <tr>\n",
       "      <th>max</th>\n",
       "      <td>41000.000000</td>\n",
       "      <td>751.000000</td>\n",
       "      <td>8.713547e+06</td>\n",
       "      <td>22939.120000</td>\n",
       "      <td>70.500000</td>\n",
       "      <td>176.000000</td>\n",
       "      <td>76.000000</td>\n",
       "      <td>11.000000</td>\n",
       "      <td>1.731412e+06</td>\n",
       "      <td>1.763322e+08</td>\n",
       "      <td>7.000000</td>\n",
       "      <td>11.000000</td>\n",
       "    </tr>\n",
       "  </tbody>\n",
       "</table>\n",
       "</div>"
      ],
      "text/plain": [
       "       Current_Loan_Amount   Credit_Score  Annual_Income   Monthly_Debt  \\\n",
       "count        215700.000000  171202.000000   1.712020e+05  215700.000000   \n",
       "mean          11552.860810     705.726902   7.280452e+04     960.395422   \n",
       "std            9083.482632      79.778205   5.730495e+04     634.781881   \n",
       "min               0.000000     204.750000   0.000000e+00       0.000000   \n",
       "25%            4888.000000     708.000000   4.476600e+04     527.680000   \n",
       "50%           10072.000000     731.000000   6.210500e+04     840.535000   \n",
       "75%           17100.000000     742.000000   8.779425e+04    1249.975000   \n",
       "max           41000.000000     751.000000   8.713547e+06   22939.120000   \n",
       "\n",
       "       Years_of_Credit_History  Months_since_last_delinquent  \\\n",
       "count            215700.000000                  97438.000000   \n",
       "mean                 18.359758                     35.031949   \n",
       "std                   7.057999                     21.810714   \n",
       "min                   3.400000                      0.000000   \n",
       "25%                  13.600000                     17.000000   \n",
       "50%                  17.000000                     32.000000   \n",
       "75%                  21.800000                     51.000000   \n",
       "max                  70.500000                    176.000000   \n",
       "\n",
       "       Number_of_Open_Accounts  Number_of_Credit_Problems  \\\n",
       "count            215700.000000              215700.000000   \n",
       "mean                 11.077566                   0.155424   \n",
       "std                   4.971825                   0.457972   \n",
       "min                   0.000000                   0.000000   \n",
       "25%                   8.000000                   0.000000   \n",
       "50%                  10.000000                   0.000000   \n",
       "75%                  14.000000                   0.000000   \n",
       "max                  76.000000                  11.000000   \n",
       "\n",
       "       Current_Credit_Balance  Maximum_Open_Credit   Bankruptcies  \\\n",
       "count            2.157000e+05         2.157000e+05  215248.000000   \n",
       "mean             1.545720e+04         3.698346e+04       0.110556   \n",
       "std              1.975033e+04         6.011777e+05       0.336853   \n",
       "min              0.000000e+00         0.000000e+00       0.000000   \n",
       "25%              5.932000e+03         1.296100e+04       0.000000   \n",
       "50%              1.104200e+04         2.206000e+04       0.000000   \n",
       "75%              1.932425e+04         3.681000e+04       0.000000   \n",
       "max              1.731412e+06         1.763322e+08       7.000000   \n",
       "\n",
       "           Tax_Liens  \n",
       "count  215678.000000  \n",
       "mean        0.026331  \n",
       "std         0.240853  \n",
       "min         0.000000  \n",
       "25%         0.000000  \n",
       "50%         0.000000  \n",
       "75%         0.000000  \n",
       "max        11.000000  "
      ]
     },
     "execution_count": 59,
     "metadata": {},
     "output_type": "execute_result"
    }
   ],
   "source": [
    "prep.describe()"
   ]
  },
  {
   "cell_type": "code",
   "execution_count": 60,
   "metadata": {
    "collapsed": true
   },
   "outputs": [],
   "source": [
    "prep_credit=prep[pd.isnull(prep['Credit_Score'])]"
   ]
  },
  {
   "cell_type": "code",
   "execution_count": 61,
   "metadata": {},
   "outputs": [
    {
     "data": {
      "text/html": [
       "<div>\n",
       "<style>\n",
       "    .dataframe thead tr:only-child th {\n",
       "        text-align: right;\n",
       "    }\n",
       "\n",
       "    .dataframe thead th {\n",
       "        text-align: left;\n",
       "    }\n",
       "\n",
       "    .dataframe tbody tr th {\n",
       "        vertical-align: top;\n",
       "    }\n",
       "</style>\n",
       "<table border=\"1\" class=\"dataframe\">\n",
       "  <thead>\n",
       "    <tr style=\"text-align: right;\">\n",
       "      <th></th>\n",
       "      <th>Loan_ID</th>\n",
       "      <th>Customer_ID</th>\n",
       "      <th>Loan_Status</th>\n",
       "      <th>Current_Loan_Amount</th>\n",
       "      <th>Term</th>\n",
       "      <th>Credit_Score</th>\n",
       "      <th>Years_in_current_job</th>\n",
       "      <th>Home_Ownership</th>\n",
       "      <th>Annual_Income</th>\n",
       "      <th>Purpose</th>\n",
       "      <th>Monthly_Debt</th>\n",
       "      <th>Years_of_Credit_History</th>\n",
       "      <th>Months_since_last_delinquent</th>\n",
       "      <th>Number_of_Open_Accounts</th>\n",
       "      <th>Number_of_Credit_Problems</th>\n",
       "      <th>Current_Credit_Balance</th>\n",
       "      <th>Maximum_Open_Credit</th>\n",
       "      <th>Bankruptcies</th>\n",
       "      <th>Tax_Liens</th>\n",
       "    </tr>\n",
       "  </thead>\n",
       "  <tbody>\n",
       "    <tr>\n",
       "      <th>6</th>\n",
       "      <td>00011dfc-31c1-4178-932a-fbeb3f341efb</td>\n",
       "      <td>ef6e098c-6c83-4752-8d00-ff793e476b8c</td>\n",
       "      <td>Fully Paid</td>\n",
       "      <td>10036.0</td>\n",
       "      <td>Short Term</td>\n",
       "      <td>NaN</td>\n",
       "      <td>5</td>\n",
       "      <td>Rent</td>\n",
       "      <td>NaN</td>\n",
       "      <td>Debt Consolidation</td>\n",
       "      <td>386.36</td>\n",
       "      <td>17.7</td>\n",
       "      <td>NaN</td>\n",
       "      <td>7.0</td>\n",
       "      <td>0.0</td>\n",
       "      <td>11970.0</td>\n",
       "      <td>16579.0</td>\n",
       "      <td>0.0</td>\n",
       "      <td>0.0</td>\n",
       "    </tr>\n",
       "    <tr>\n",
       "      <th>12</th>\n",
       "      <td>0003b749-307f-4830-9fb4-9db7ed1b1c48</td>\n",
       "      <td>998dc43c-f9ce-466e-bdaa-7057b0bbb9cd</td>\n",
       "      <td>Fully Paid</td>\n",
       "      <td>7228.0</td>\n",
       "      <td>Short Term</td>\n",
       "      <td>NaN</td>\n",
       "      <td>3</td>\n",
       "      <td>Home Mortgage</td>\n",
       "      <td>NaN</td>\n",
       "      <td>Debt Consolidation</td>\n",
       "      <td>439.56</td>\n",
       "      <td>17.8</td>\n",
       "      <td>NaN</td>\n",
       "      <td>13.0</td>\n",
       "      <td>1.0</td>\n",
       "      <td>8488.0</td>\n",
       "      <td>15866.0</td>\n",
       "      <td>1.0</td>\n",
       "      <td>0.0</td>\n",
       "    </tr>\n",
       "    <tr>\n",
       "      <th>16</th>\n",
       "      <td>0004d002-a494-4f8a-a528-a6d513812701</td>\n",
       "      <td>4722d542-6684-431c-afb6-ba2e847f1098</td>\n",
       "      <td>Fully Paid</td>\n",
       "      <td>4612.0</td>\n",
       "      <td>Short Term</td>\n",
       "      <td>NaN</td>\n",
       "      <td>10</td>\n",
       "      <td>Rent</td>\n",
       "      <td>NaN</td>\n",
       "      <td>Debt Consolidation</td>\n",
       "      <td>262.27</td>\n",
       "      <td>14.0</td>\n",
       "      <td>NaN</td>\n",
       "      <td>4.0</td>\n",
       "      <td>0.0</td>\n",
       "      <td>8919.0</td>\n",
       "      <td>9330.0</td>\n",
       "      <td>0.0</td>\n",
       "      <td>0.0</td>\n",
       "    </tr>\n",
       "    <tr>\n",
       "      <th>24</th>\n",
       "      <td>0008255a-402e-4716-9e0a-8bdf55309781</td>\n",
       "      <td>4e25b6bf-9abc-4bbd-841e-c5a8403b68de</td>\n",
       "      <td>Fully Paid</td>\n",
       "      <td>6114.0</td>\n",
       "      <td>Short Term</td>\n",
       "      <td>NaN</td>\n",
       "      <td>0</td>\n",
       "      <td>Home Mortgage</td>\n",
       "      <td>NaN</td>\n",
       "      <td>Debt Consolidation</td>\n",
       "      <td>206.97</td>\n",
       "      <td>17.8</td>\n",
       "      <td>21.0</td>\n",
       "      <td>8.0</td>\n",
       "      <td>1.0</td>\n",
       "      <td>5772.0</td>\n",
       "      <td>13975.0</td>\n",
       "      <td>1.0</td>\n",
       "      <td>0.0</td>\n",
       "    </tr>\n",
       "    <tr>\n",
       "      <th>37</th>\n",
       "      <td>000c16df-c24f-41cf-a90e-60301d131bb9</td>\n",
       "      <td>b07c4262-70bb-41cc-b28a-d87540577fb1</td>\n",
       "      <td>Fully Paid</td>\n",
       "      <td>7068.0</td>\n",
       "      <td>Short Term</td>\n",
       "      <td>NaN</td>\n",
       "      <td>0</td>\n",
       "      <td>Own Home</td>\n",
       "      <td>NaN</td>\n",
       "      <td>other</td>\n",
       "      <td>425.68</td>\n",
       "      <td>21.3</td>\n",
       "      <td>NaN</td>\n",
       "      <td>7.0</td>\n",
       "      <td>1.0</td>\n",
       "      <td>4178.0</td>\n",
       "      <td>6850.0</td>\n",
       "      <td>1.0</td>\n",
       "      <td>0.0</td>\n",
       "    </tr>\n",
       "  </tbody>\n",
       "</table>\n",
       "</div>"
      ],
      "text/plain": [
       "                                 Loan_ID  \\\n",
       "6   00011dfc-31c1-4178-932a-fbeb3f341efb   \n",
       "12  0003b749-307f-4830-9fb4-9db7ed1b1c48   \n",
       "16  0004d002-a494-4f8a-a528-a6d513812701   \n",
       "24  0008255a-402e-4716-9e0a-8bdf55309781   \n",
       "37  000c16df-c24f-41cf-a90e-60301d131bb9   \n",
       "\n",
       "                             Customer_ID Loan_Status  Current_Loan_Amount  \\\n",
       "6   ef6e098c-6c83-4752-8d00-ff793e476b8c  Fully Paid              10036.0   \n",
       "12  998dc43c-f9ce-466e-bdaa-7057b0bbb9cd  Fully Paid               7228.0   \n",
       "16  4722d542-6684-431c-afb6-ba2e847f1098  Fully Paid               4612.0   \n",
       "24  4e25b6bf-9abc-4bbd-841e-c5a8403b68de  Fully Paid               6114.0   \n",
       "37  b07c4262-70bb-41cc-b28a-d87540577fb1  Fully Paid               7068.0   \n",
       "\n",
       "          Term  Credit_Score Years_in_current_job Home_Ownership  \\\n",
       "6   Short Term           NaN                    5           Rent   \n",
       "12  Short Term           NaN                    3  Home Mortgage   \n",
       "16  Short Term           NaN                   10           Rent   \n",
       "24  Short Term           NaN                    0  Home Mortgage   \n",
       "37  Short Term           NaN                    0       Own Home   \n",
       "\n",
       "    Annual_Income             Purpose  Monthly_Debt  Years_of_Credit_History  \\\n",
       "6             NaN  Debt Consolidation        386.36                     17.7   \n",
       "12            NaN  Debt Consolidation        439.56                     17.8   \n",
       "16            NaN  Debt Consolidation        262.27                     14.0   \n",
       "24            NaN  Debt Consolidation        206.97                     17.8   \n",
       "37            NaN               other        425.68                     21.3   \n",
       "\n",
       "    Months_since_last_delinquent  Number_of_Open_Accounts  \\\n",
       "6                            NaN                      7.0   \n",
       "12                           NaN                     13.0   \n",
       "16                           NaN                      4.0   \n",
       "24                          21.0                      8.0   \n",
       "37                           NaN                      7.0   \n",
       "\n",
       "    Number_of_Credit_Problems  Current_Credit_Balance  Maximum_Open_Credit  \\\n",
       "6                         0.0                 11970.0              16579.0   \n",
       "12                        1.0                  8488.0              15866.0   \n",
       "16                        0.0                  8919.0               9330.0   \n",
       "24                        1.0                  5772.0              13975.0   \n",
       "37                        1.0                  4178.0               6850.0   \n",
       "\n",
       "    Bankruptcies  Tax_Liens  \n",
       "6            0.0        0.0  \n",
       "12           1.0        0.0  \n",
       "16           0.0        0.0  \n",
       "24           1.0        0.0  \n",
       "37           1.0        0.0  "
      ]
     },
     "execution_count": 61,
     "metadata": {},
     "output_type": "execute_result"
    }
   ],
   "source": [
    "prep_credit.head()"
   ]
  },
  {
   "cell_type": "code",
   "execution_count": 62,
   "metadata": {
    "collapsed": true
   },
   "outputs": [],
   "source": [
    "#loan.tot_cur_bal.isnull().sum()/loan.shape[0]"
   ]
  },
  {
   "cell_type": "markdown",
   "metadata": {},
   "source": [
    "# EDA"
   ]
  },
  {
   "cell_type": "code",
   "execution_count": 63,
   "metadata": {},
   "outputs": [
    {
     "data": {
      "text/plain": [
       "<matplotlib.axes._subplots.AxesSubplot at 0x11c2f1320>"
      ]
     },
     "execution_count": 63,
     "metadata": {},
     "output_type": "execute_result"
    },
    {
     "data": {
      "image/png": "[encoded data removed]",
      "text/plain": [
       "<matplotlib.figure.Figure at 0x110a22080>"
      ]
     },
     "metadata": {},
     "output_type": "display_data"
    }
   ],
   "source": [
    "sns.countplot(prep['Loan_Status'])"
   ]
  },
  {
   "cell_type": "code",
   "execution_count": 64,
   "metadata": {},
   "outputs": [
    {
     "data": {
      "text/plain": [
       "Fully Paid     176191\n",
       "Charged Off     39509\n",
       "Name: Loan_Status, dtype: int64"
      ]
     },
     "execution_count": 64,
     "metadata": {},
     "output_type": "execute_result"
    }
   ],
   "source": [
    "prep.Loan_Status.value_counts()"
   ]
  },
  {
   "cell_type": "code",
   "execution_count": 65,
   "metadata": {},
   "outputs": [
    {
     "data": {
      "text/plain": [
       "0.81683356513676397"
      ]
     },
     "execution_count": 65,
     "metadata": {},
     "output_type": "execute_result"
    }
   ],
   "source": [
    "prep.Loan_Status.value_counts()[0]/prep.Loan_Status.shape[0]"
   ]
  },
  {
   "cell_type": "code",
   "execution_count": 161,
   "metadata": {},
   "outputs": [
    {
     "data": {
      "text/plain": [
       "0.18316643486323597"
      ]
     },
     "execution_count": 161,
     "metadata": {},
     "output_type": "execute_result"
    }
   ],
   "source": [
    "prep.Loan_Status.value_counts()[1]/prep.Loan_Status.shape[0]"
   ]
  },
  {
   "cell_type": "code",
   "execution_count": 66,
   "metadata": {},
   "outputs": [
    {
     "data": {
      "text/plain": [
       "<matplotlib.axes._subplots.AxesSubplot at 0x1a1e9d5a90>"
      ]
     },
     "execution_count": 66,
     "metadata": {},
     "output_type": "execute_result"
    },
    {
     "data": {
      "image/png": "[encoded data removed]",
      "text/plain": [
       "<matplotlib.figure.Figure at 0x1a1e3bde48>"
      ]
     },
     "metadata": {},
     "output_type": "display_data"
    }
   ],
   "source": [
    "sns.distplot(prep[\"Current_Loan_Amount\"])"
   ]
  },
  {
   "cell_type": "code",
   "execution_count": 67,
   "metadata": {
    "collapsed": true
   },
   "outputs": [],
   "source": [
    "prep['Current_Loan_Amount_log']=np.log(prep['Current_Loan_Amount']+1)"
   ]
  },
  {
   "cell_type": "code",
   "execution_count": 68,
   "metadata": {},
   "outputs": [
    {
     "data": {
      "text/plain": [
       "<matplotlib.axes._subplots.AxesSubplot at 0x11c8eb9e8>"
      ]
     },
     "execution_count": 68,
     "metadata": {},
     "output_type": "execute_result"
    },
    {
     "data": {
      "image/png": "[encoded data removed]",
      "text/plain": [
       "<matplotlib.figure.Figure at 0x11b74fc88>"
      ]
     },
     "metadata": {},
     "output_type": "display_data"
    }
   ],
   "source": [
    "prep['Current_Loan_Amount_log'].hist(bins=100)"
   ]
  },
  {
   "cell_type": "code",
   "execution_count": 69,
   "metadata": {},
   "outputs": [
    {
     "data": {
      "text/html": [
       "<div>\n",
       "<style>\n",
       "    .dataframe thead tr:only-child th {\n",
       "        text-align: right;\n",
       "    }\n",
       "\n",
       "    .dataframe thead th {\n",
       "        text-align: left;\n",
       "    }\n",
       "\n",
       "    .dataframe tbody tr th {\n",
       "        vertical-align: top;\n",
       "    }\n",
       "</style>\n",
       "<table border=\"1\" class=\"dataframe\">\n",
       "  <thead>\n",
       "    <tr style=\"text-align: right;\">\n",
       "      <th></th>\n",
       "      <th>Loan_ID</th>\n",
       "      <th>Customer_ID</th>\n",
       "      <th>Loan_Status</th>\n",
       "      <th>Current_Loan_Amount</th>\n",
       "      <th>Term</th>\n",
       "      <th>Credit_Score</th>\n",
       "      <th>Years_in_current_job</th>\n",
       "      <th>Home_Ownership</th>\n",
       "      <th>Annual_Income</th>\n",
       "      <th>Purpose</th>\n",
       "      <th>Monthly_Debt</th>\n",
       "      <th>Years_of_Credit_History</th>\n",
       "      <th>Months_since_last_delinquent</th>\n",
       "      <th>Number_of_Open_Accounts</th>\n",
       "      <th>Number_of_Credit_Problems</th>\n",
       "      <th>Current_Credit_Balance</th>\n",
       "      <th>Maximum_Open_Credit</th>\n",
       "      <th>Bankruptcies</th>\n",
       "      <th>Tax_Liens</th>\n",
       "      <th>Current_Loan_Amount_log</th>\n",
       "    </tr>\n",
       "  </thead>\n",
       "  <tbody>\n",
       "    <tr>\n",
       "      <th>0</th>\n",
       "      <td>000025bb-5694-4cff-b17d-192b1a98ba44</td>\n",
       "      <td>5ebc8bb1-5eb9-4404-b11b-a6eebc401a19</td>\n",
       "      <td>Fully Paid</td>\n",
       "      <td>11520.0</td>\n",
       "      <td>Short Term</td>\n",
       "      <td>741.0</td>\n",
       "      <td>10</td>\n",
       "      <td>Home Mortgage</td>\n",
       "      <td>33694.0</td>\n",
       "      <td>Debt Consolidation</td>\n",
       "      <td>584.03</td>\n",
       "      <td>12.3</td>\n",
       "      <td>41.0</td>\n",
       "      <td>10.0</td>\n",
       "      <td>0.0</td>\n",
       "      <td>6760.0</td>\n",
       "      <td>16056.0</td>\n",
       "      <td>0.0</td>\n",
       "      <td>0.0</td>\n",
       "      <td>9.351927</td>\n",
       "    </tr>\n",
       "    <tr>\n",
       "      <th>1</th>\n",
       "      <td>00002c49-3a29-4bd4-8f67-c8f8fbc1048c</td>\n",
       "      <td>927b388d-2e01-423f-a8dc-f7e42d668f46</td>\n",
       "      <td>Fully Paid</td>\n",
       "      <td>3441.0</td>\n",
       "      <td>Short Term</td>\n",
       "      <td>734.0</td>\n",
       "      <td>4</td>\n",
       "      <td>Home Mortgage</td>\n",
       "      <td>42269.0</td>\n",
       "      <td>other</td>\n",
       "      <td>1106.04</td>\n",
       "      <td>26.3</td>\n",
       "      <td>NaN</td>\n",
       "      <td>17.0</td>\n",
       "      <td>0.0</td>\n",
       "      <td>6262.0</td>\n",
       "      <td>19149.0</td>\n",
       "      <td>0.0</td>\n",
       "      <td>0.0</td>\n",
       "      <td>8.143808</td>\n",
       "    </tr>\n",
       "    <tr>\n",
       "      <th>2</th>\n",
       "      <td>00002d89-27f3-409b-aa76-90834f359a65</td>\n",
       "      <td>defce609-c631-447d-aad6-1270615e89c4</td>\n",
       "      <td>Fully Paid</td>\n",
       "      <td>21029.0</td>\n",
       "      <td>Short Term</td>\n",
       "      <td>747.0</td>\n",
       "      <td>10</td>\n",
       "      <td>Home Mortgage</td>\n",
       "      <td>90126.0</td>\n",
       "      <td>Debt Consolidation</td>\n",
       "      <td>1321.85</td>\n",
       "      <td>28.8</td>\n",
       "      <td>NaN</td>\n",
       "      <td>5.0</td>\n",
       "      <td>0.0</td>\n",
       "      <td>20967.0</td>\n",
       "      <td>28335.0</td>\n",
       "      <td>0.0</td>\n",
       "      <td>0.0</td>\n",
       "      <td>9.953705</td>\n",
       "    </tr>\n",
       "    <tr>\n",
       "      <th>3</th>\n",
       "      <td>00005222-b4d8-45a4-ad8c-186057e24233</td>\n",
       "      <td>070bcecb-aae7-4485-a26a-e0403e7bb6c5</td>\n",
       "      <td>Fully Paid</td>\n",
       "      <td>18743.0</td>\n",
       "      <td>Short Term</td>\n",
       "      <td>747.0</td>\n",
       "      <td>10</td>\n",
       "      <td>Own Home</td>\n",
       "      <td>38072.0</td>\n",
       "      <td>Debt Consolidation</td>\n",
       "      <td>751.92</td>\n",
       "      <td>26.2</td>\n",
       "      <td>NaN</td>\n",
       "      <td>9.0</td>\n",
       "      <td>0.0</td>\n",
       "      <td>22529.0</td>\n",
       "      <td>43915.0</td>\n",
       "      <td>0.0</td>\n",
       "      <td>0.0</td>\n",
       "      <td>9.838629</td>\n",
       "    </tr>\n",
       "    <tr>\n",
       "      <th>4</th>\n",
       "      <td>0000757f-a121-41ed-b17b-162e76647c1f</td>\n",
       "      <td>dde79588-12f0-4811-bab0-e2b07f633fcd</td>\n",
       "      <td>Fully Paid</td>\n",
       "      <td>11731.0</td>\n",
       "      <td>Short Term</td>\n",
       "      <td>746.0</td>\n",
       "      <td>4</td>\n",
       "      <td>Rent</td>\n",
       "      <td>50025.0</td>\n",
       "      <td>Debt Consolidation</td>\n",
       "      <td>355.18</td>\n",
       "      <td>11.5</td>\n",
       "      <td>NaN</td>\n",
       "      <td>12.0</td>\n",
       "      <td>0.0</td>\n",
       "      <td>17391.0</td>\n",
       "      <td>37081.0</td>\n",
       "      <td>0.0</td>\n",
       "      <td>0.0</td>\n",
       "      <td>9.370075</td>\n",
       "    </tr>\n",
       "  </tbody>\n",
       "</table>\n",
       "</div>"
      ],
      "text/plain": [
       "                                Loan_ID                           Customer_ID  \\\n",
       "0  000025bb-5694-4cff-b17d-192b1a98ba44  5ebc8bb1-5eb9-4404-b11b-a6eebc401a19   \n",
       "1  00002c49-3a29-4bd4-8f67-c8f8fbc1048c  927b388d-2e01-423f-a8dc-f7e42d668f46   \n",
       "2  00002d89-27f3-409b-aa76-90834f359a65  defce609-c631-447d-aad6-1270615e89c4   \n",
       "3  00005222-b4d8-45a4-ad8c-186057e24233  070bcecb-aae7-4485-a26a-e0403e7bb6c5   \n",
       "4  0000757f-a121-41ed-b17b-162e76647c1f  dde79588-12f0-4811-bab0-e2b07f633fcd   \n",
       "\n",
       "  Loan_Status  Current_Loan_Amount        Term  Credit_Score  \\\n",
       "0  Fully Paid              11520.0  Short Term         741.0   \n",
       "1  Fully Paid               3441.0  Short Term         734.0   \n",
       "2  Fully Paid              21029.0  Short Term         747.0   \n",
       "3  Fully Paid              18743.0  Short Term         747.0   \n",
       "4  Fully Paid              11731.0  Short Term         746.0   \n",
       "\n",
       "  Years_in_current_job Home_Ownership  Annual_Income             Purpose  \\\n",
       "0                   10  Home Mortgage        33694.0  Debt Consolidation   \n",
       "1                    4  Home Mortgage        42269.0               other   \n",
       "2                   10  Home Mortgage        90126.0  Debt Consolidation   \n",
       "3                   10       Own Home        38072.0  Debt Consolidation   \n",
       "4                    4           Rent        50025.0  Debt Consolidation   \n",
       "\n",
       "   Monthly_Debt  Years_of_Credit_History  Months_since_last_delinquent  \\\n",
       "0        584.03                     12.3                          41.0   \n",
       "1       1106.04                     26.3                           NaN   \n",
       "2       1321.85                     28.8                           NaN   \n",
       "3        751.92                     26.2                           NaN   \n",
       "4        355.18                     11.5                           NaN   \n",
       "\n",
       "   Number_of_Open_Accounts  Number_of_Credit_Problems  Current_Credit_Balance  \\\n",
       "0                     10.0                        0.0                  6760.0   \n",
       "1                     17.0                        0.0                  6262.0   \n",
       "2                      5.0                        0.0                 20967.0   \n",
       "3                      9.0                        0.0                 22529.0   \n",
       "4                     12.0                        0.0                 17391.0   \n",
       "\n",
       "   Maximum_Open_Credit  Bankruptcies  Tax_Liens  Current_Loan_Amount_log  \n",
       "0              16056.0           0.0        0.0                 9.351927  \n",
       "1              19149.0           0.0        0.0                 8.143808  \n",
       "2              28335.0           0.0        0.0                 9.953705  \n",
       "3              43915.0           0.0        0.0                 9.838629  \n",
       "4              37081.0           0.0        0.0                 9.370075  "
      ]
     },
     "execution_count": 69,
     "metadata": {},
     "output_type": "execute_result"
    }
   ],
   "source": [
    "prep.head()"
   ]
  },
  {
   "cell_type": "code",
   "execution_count": 70,
   "metadata": {},
   "outputs": [
    {
     "data": {
      "text/plain": [
       "<matplotlib.axes._subplots.AxesSubplot at 0x10f48b4e0>"
      ]
     },
     "execution_count": 70,
     "metadata": {},
     "output_type": "execute_result"
    },
    {
     "data": {
      "image/png": "[encoded data removed]",
      "text/plain": [
       "<matplotlib.figure.Figure at 0x117afce80>"
      ]
     },
     "metadata": {},
     "output_type": "display_data"
    }
   ],
   "source": [
    "sns.distplot(prep[\"Current_Credit_Balance\"])"
   ]
  },
  {
   "cell_type": "code",
   "execution_count": 71,
   "metadata": {
    "collapsed": true
   },
   "outputs": [],
   "source": [
    "import matplotlib as plt\n",
    "%matplotlib inline\n",
    "prep['Current_Credit_Balance_log']=np.log(prep['Current_Credit_Balance']+1)\n",
    "#prep['Current_Credit_Balance_log'].hist(bins=200)"
   ]
  },
  {
   "cell_type": "code",
   "execution_count": 72,
   "metadata": {},
   "outputs": [
    {
     "data": {
      "text/plain": [
       "<matplotlib.axes._subplots.AxesSubplot at 0x1142b82b0>"
      ]
     },
     "execution_count": 72,
     "metadata": {},
     "output_type": "execute_result"
    },
    {
     "data": {
      "image/png": "[encoded data removed]",
      "text/plain": [
       "<matplotlib.figure.Figure at 0x11b74fe10>"
      ]
     },
     "metadata": {},
     "output_type": "display_data"
    }
   ],
   "source": [
    "prep['Current_Credit_Balance_log'].hist(bins=100)"
   ]
  },
  {
   "cell_type": "code",
   "execution_count": 73,
   "metadata": {},
   "outputs": [
    {
     "data": {
      "text/plain": [
       "<matplotlib.axes._subplots.AxesSubplot at 0x117a3c4a8>"
      ]
     },
     "execution_count": 73,
     "metadata": {},
     "output_type": "execute_result"
    },
    {
     "data": {
      "image/png": "[encoded data removed]",
      "text/plain": [
       "<matplotlib.figure.Figure at 0x11a425208>"
      ]
     },
     "metadata": {},
     "output_type": "display_data"
    }
   ],
   "source": [
    "prep['Maximum_Open_Credit'].hist(bins=20)"
   ]
  },
  {
   "cell_type": "code",
   "execution_count": 74,
   "metadata": {
    "collapsed": true
   },
   "outputs": [],
   "source": [
    "prep['Maximum_Open_Credit_log']=np.log(prep['Maximum_Open_Credit']+1)"
   ]
  },
  {
   "cell_type": "code",
   "execution_count": 75,
   "metadata": {},
   "outputs": [
    {
     "data": {
      "text/plain": [
       "<matplotlib.axes._subplots.AxesSubplot at 0x11a55f048>"
      ]
     },
     "execution_count": 75,
     "metadata": {},
     "output_type": "execute_result"
    },
    {
     "data": {
      "image/png": "[encoded data removed]",
      "text/plain": [
       "<matplotlib.figure.Figure at 0x1175d5668>"
      ]
     },
     "metadata": {},
     "output_type": "display_data"
    }
   ],
   "source": [
    "prep['Maximum_Open_Credit_log'].hist(bins=100)"
   ]
  },
  {
   "cell_type": "code",
   "execution_count": 76,
   "metadata": {},
   "outputs": [
    {
     "data": {
      "text/plain": [
       "[0.0, 1.0, 2.0, 5.0, 3.0, 4.0, 6.0, 7.0, 9.0, 10.0, 8.0, 11.0]"
      ]
     },
     "execution_count": 76,
     "metadata": {},
     "output_type": "execute_result"
    }
   ],
   "source": [
    "list(prep.Number_of_Credit_Problems.unique())"
   ]
  },
  {
   "cell_type": "code",
   "execution_count": 77,
   "metadata": {
    "collapsed": true
   },
   "outputs": [],
   "source": [
    "prep['Number_of_Credit_Problems']=prep['Number_of_Credit_Problems'].astype('int')"
   ]
  },
  {
   "cell_type": "code",
   "execution_count": 78,
   "metadata": {},
   "outputs": [
    {
     "data": {
      "text/plain": [
       "[0, 1, 2, 5, 3, 4, 6, 7, 9, 10, 8, 11]"
      ]
     },
     "execution_count": 78,
     "metadata": {},
     "output_type": "execute_result"
    }
   ],
   "source": [
    "list(prep.Number_of_Credit_Problems.unique())"
   ]
  },
  {
   "cell_type": "code",
   "execution_count": 79,
   "metadata": {},
   "outputs": [
    {
     "data": {
      "image/png": "[encoded data removed]",
      "text/plain": [
       "<matplotlib.figure.Figure at 0x11aebf978>"
      ]
     },
     "metadata": {},
     "output_type": "display_data"
    }
   ],
   "source": [
    "import matplotlib.pyplot as plt\n",
    "%matplotlib inline\n",
    "import seaborn as sns\n",
    "\n",
    "plt.figure(figsize=(10,5))\n",
    "plt.subplot(1,2,1)\n",
    "sns.countplot(prep['Number_of_Credit_Problems'])\n",
    "plt.tight_layout()\n",
    "plt.show()"
   ]
  },
  {
   "cell_type": "code",
   "execution_count": 80,
   "metadata": {},
   "outputs": [
    {
     "data": {
      "text/plain": [
       "0     187484\n",
       "1      24682\n",
       "2       2480\n",
       "3        665\n",
       "4        216\n",
       "5         99\n",
       "6         36\n",
       "7         14\n",
       "8         11\n",
       "10         6\n",
       "9          5\n",
       "11         2\n",
       "Name: Number_of_Credit_Problems, dtype: int64"
      ]
     },
     "execution_count": 80,
     "metadata": {},
     "output_type": "execute_result"
    }
   ],
   "source": [
    "prep.Number_of_Credit_Problems.value_counts()"
   ]
  },
  {
   "cell_type": "code",
   "execution_count": 81,
   "metadata": {},
   "outputs": [
    {
     "data": {
      "text/plain": [
       "86.918868799258235"
      ]
     },
     "execution_count": 81,
     "metadata": {},
     "output_type": "execute_result"
    }
   ],
   "source": [
    "prep.Number_of_Credit_Problems.value_counts()[0]/prep.shape[0] * 100"
   ]
  },
  {
   "cell_type": "code",
   "execution_count": 82,
   "metadata": {},
   "outputs": [
    {
     "data": {
      "text/plain": [
       "array([ 10.,  17.,   5.,   9.,  12.,   4.,   7.,  11.,   8.,  13.,  14.,\n",
       "        16.,  22.,  34.,   6.,  15.,   3.,  24.,   2.,  21.,  20.,  19.,\n",
       "        25.,  29.,  18.,  23.,  32.,  31.,  26.,  28.,  47.,  30.,  27.,\n",
       "        37.,  40.,  33.,  36.,  39.,  35.,  38.,  42.,  48.,  44.,  41.,\n",
       "         1.,  56.,  43.,  53.,   0.,  46.,  49.,  45.,  55.,  52.,  51.,\n",
       "        58.,  54.,  50.,  76.])"
      ]
     },
     "execution_count": 82,
     "metadata": {},
     "output_type": "execute_result"
    }
   ],
   "source": [
    "prep.Number_of_Open_Accounts.unique()"
   ]
  },
  {
   "cell_type": "code",
   "execution_count": 83,
   "metadata": {
    "collapsed": true
   },
   "outputs": [],
   "source": [
    "prep['Number_of_Open_Accounts']=prep['Number_of_Open_Accounts'].astype('int')"
   ]
  },
  {
   "cell_type": "code",
   "execution_count": 84,
   "metadata": {},
   "outputs": [
    {
     "data": {
      "text/plain": [
       "59"
      ]
     },
     "execution_count": 84,
     "metadata": {},
     "output_type": "execute_result"
    }
   ],
   "source": [
    "prep.Number_of_Open_Accounts.nunique()"
   ]
  },
  {
   "cell_type": "code",
   "execution_count": 85,
   "metadata": {},
   "outputs": [
    {
     "data": {
      "text/plain": [
       "<matplotlib.axes._subplots.AxesSubplot at 0x11c611c88>"
      ]
     },
     "execution_count": 85,
     "metadata": {},
     "output_type": "execute_result"
    },
    {
     "data": {
      "image/png": "[encoded data removed]",
      "text/plain": [
       "<matplotlib.figure.Figure at 0x11a579c18>"
      ]
     },
     "metadata": {},
     "output_type": "display_data"
    }
   ],
   "source": [
    "prep['Number_of_Open_Accounts'].hist(bins=50)"
   ]
  },
  {
   "cell_type": "code",
   "execution_count": 86,
   "metadata": {},
   "outputs": [
    {
     "data": {
      "text/plain": [
       "544"
      ]
     },
     "execution_count": 86,
     "metadata": {},
     "output_type": "execute_result"
    }
   ],
   "source": [
    "prep.Years_of_Credit_History.nunique()"
   ]
  },
  {
   "cell_type": "code",
   "execution_count": 87,
   "metadata": {},
   "outputs": [
    {
     "data": {
      "text/plain": [
       "<matplotlib.axes._subplots.AxesSubplot at 0x1a1dc2a2e8>"
      ]
     },
     "execution_count": 87,
     "metadata": {},
     "output_type": "execute_result"
    },
    {
     "data": {
      "image/png": "[encoded data removed]",
      "text/plain": [
       "<matplotlib.figure.Figure at 0x11adcbcf8>"
      ]
     },
     "metadata": {},
     "output_type": "display_data"
    }
   ],
   "source": [
    "prep.Years_of_Credit_History.hist(bins=50)"
   ]
  },
  {
   "cell_type": "code",
   "execution_count": 88,
   "metadata": {},
   "outputs": [
    {
     "data": {
      "text/plain": [
       "<matplotlib.axes._subplots.AxesSubplot at 0x1a1de7d470>"
      ]
     },
     "execution_count": 88,
     "metadata": {},
     "output_type": "execute_result"
    },
    {
     "data": {
      "image/png": "[encoded data removed]",
      "text/plain": [
       "<matplotlib.figure.Figure at 0x1a1dea7208>"
      ]
     },
     "metadata": {},
     "output_type": "display_data"
    }
   ],
   "source": [
    "prep.Monthly_Debt.hist(bins=200)"
   ]
  },
  {
   "cell_type": "code",
   "execution_count": 89,
   "metadata": {
    "collapsed": true
   },
   "outputs": [],
   "source": [
    "prep['Monthly_Debt_log']=np.log(prep['Monthly_Debt']+1)"
   ]
  },
  {
   "cell_type": "code",
   "execution_count": 90,
   "metadata": {},
   "outputs": [
    {
     "data": {
      "text/plain": [
       "<matplotlib.axes._subplots.AxesSubplot at 0x1a1ecd8208>"
      ]
     },
     "execution_count": 90,
     "metadata": {},
     "output_type": "execute_result"
    },
    {
     "data": {
      "image/png": "[encoded data removed]",
      "text/plain": [
       "<matplotlib.figure.Figure at 0x11c617940>"
      ]
     },
     "metadata": {},
     "output_type": "display_data"
    }
   ],
   "source": [
    "prep['Monthly_Debt_log'].hist(bins=100)"
   ]
  },
  {
   "cell_type": "code",
   "execution_count": 91,
   "metadata": {},
   "outputs": [
    {
     "data": {
      "text/plain": [
       "<matplotlib.axes._subplots.AxesSubplot at 0x1a2606ac88>"
      ]
     },
     "execution_count": 91,
     "metadata": {},
     "output_type": "execute_result"
    },
    {
     "data": {
      "image/png": "[encoded data removed]",
      "text/plain": [
       "<matplotlib.figure.Figure at 0x1a25051588>"
      ]
     },
     "metadata": {},
     "output_type": "display_data"
    }
   ],
   "source": [
    "sns.countplot(prep['Years_in_current_job'])"
   ]
  },
  {
   "cell_type": "code",
   "execution_count": 92,
   "metadata": {},
   "outputs": [
    {
     "data": {
      "text/plain": [
       "<matplotlib.axes._subplots.AxesSubplot at 0x1a2606a908>"
      ]
     },
     "execution_count": 92,
     "metadata": {},
     "output_type": "execute_result"
    },
    {
     "data": {
      "image/png": "[encoded data removed]",
      "text/plain": [
       "<matplotlib.figure.Figure at 0x1a1ec90ef0>"
      ]
     },
     "metadata": {},
     "output_type": "display_data"
    }
   ],
   "source": [
    "sns.countplot(prep['Home_Ownership'])"
   ]
  },
  {
   "cell_type": "code",
   "execution_count": 93,
   "metadata": {},
   "outputs": [
    {
     "data": {
      "text/plain": [
       "<matplotlib.axes._subplots.AxesSubplot at 0x11c648b38>"
      ]
     },
     "execution_count": 93,
     "metadata": {},
     "output_type": "execute_result"
    },
    {
     "data": {
      "image/png": "[encoded data removed]",
      "text/plain": [
       "<matplotlib.figure.Figure at 0x1a264fdba8>"
      ]
     },
     "metadata": {},
     "output_type": "display_data"
    }
   ],
   "source": [
    "plt.figure(figsize=(20,15))\n",
    "sns.countplot(prep['Purpose'])"
   ]
  },
  {
   "cell_type": "code",
   "execution_count": 94,
   "metadata": {},
   "outputs": [
    {
     "data": {
      "text/plain": [
       "0.79321279554937418"
      ]
     },
     "execution_count": 94,
     "metadata": {},
     "output_type": "execute_result"
    }
   ],
   "source": [
    "prep.Purpose.value_counts()[0]/prep.Purpose.shape[0]"
   ]
  },
  {
   "cell_type": "code",
   "execution_count": 95,
   "metadata": {
    "collapsed": true
   },
   "outputs": [],
   "source": [
    "# 79 % People are the one who have take loan for Debt Consolidation"
   ]
  },
  {
   "cell_type": "code",
   "execution_count": 96,
   "metadata": {},
   "outputs": [
    {
     "data": {
      "text/plain": [
       "Loan_ID                          object\n",
       "Customer_ID                      object\n",
       "Loan_Status                      object\n",
       "Current_Loan_Amount             float64\n",
       "Term                             object\n",
       "Credit_Score                    float64\n",
       "Years_in_current_job             object\n",
       "Home_Ownership                   object\n",
       "Annual_Income                   float64\n",
       "Purpose                          object\n",
       "Monthly_Debt                    float64\n",
       "Years_of_Credit_History         float64\n",
       "Months_since_last_delinquent    float64\n",
       "Number_of_Open_Accounts           int64\n",
       "Number_of_Credit_Problems         int64\n",
       "Current_Credit_Balance          float64\n",
       "Maximum_Open_Credit             float64\n",
       "Bankruptcies                    float64\n",
       "Tax_Liens                       float64\n",
       "Current_Loan_Amount_log         float64\n",
       "Current_Credit_Balance_log      float64\n",
       "Maximum_Open_Credit_log         float64\n",
       "Monthly_Debt_log                float64\n",
       "dtype: object"
      ]
     },
     "execution_count": 96,
     "metadata": {},
     "output_type": "execute_result"
    }
   ],
   "source": [
    "prep.dtypes"
   ]
  },
  {
   "cell_type": "code",
   "execution_count": 97,
   "metadata": {},
   "outputs": [
    {
     "data": {
      "text/plain": [
       "<matplotlib.axes._subplots.AxesSubplot at 0x11cfc94a8>"
      ]
     },
     "execution_count": 97,
     "metadata": {},
     "output_type": "execute_result"
    },
    {
     "data": {
      "image/png": "[encoded data removed]",
      "text/plain": [
       "<matplotlib.figure.Figure at 0x11cfc9710>"
      ]
     },
     "metadata": {},
     "output_type": "display_data"
    }
   ],
   "source": [
    "plt.figure(figsize=(10,8))\n",
    "prep['Annual_Income'].hist(bins=500)"
   ]
  },
  {
   "cell_type": "code",
   "execution_count": 98,
   "metadata": {},
   "outputs": [
    {
     "data": {
      "text/html": [
       "<div>\n",
       "<style>\n",
       "    .dataframe thead tr:only-child th {\n",
       "        text-align: right;\n",
       "    }\n",
       "\n",
       "    .dataframe thead th {\n",
       "        text-align: left;\n",
       "    }\n",
       "\n",
       "    .dataframe tbody tr th {\n",
       "        vertical-align: top;\n",
       "    }\n",
       "</style>\n",
       "<table border=\"1\" class=\"dataframe\">\n",
       "  <thead>\n",
       "    <tr style=\"text-align: right;\">\n",
       "      <th></th>\n",
       "      <th></th>\n",
       "      <th></th>\n",
       "      <th>Credit_Score</th>\n",
       "    </tr>\n",
       "    <tr>\n",
       "      <th>Years_in_current_job</th>\n",
       "      <th>Home_Ownership</th>\n",
       "      <th>Purpose</th>\n",
       "      <th></th>\n",
       "    </tr>\n",
       "  </thead>\n",
       "  <tbody>\n",
       "    <tr>\n",
       "      <th rowspan=\"30\" valign=\"top\">0</th>\n",
       "      <th rowspan=\"10\" valign=\"top\">Home Mortgage</th>\n",
       "      <th>Business Loan</th>\n",
       "      <td>683.672876</td>\n",
       "    </tr>\n",
       "    <tr>\n",
       "      <th>Buy House</th>\n",
       "      <td>699.069792</td>\n",
       "    </tr>\n",
       "    <tr>\n",
       "      <th>Buy a Car</th>\n",
       "      <td>725.505372</td>\n",
       "    </tr>\n",
       "    <tr>\n",
       "      <th>Debt Consolidation</th>\n",
       "      <td>706.811944</td>\n",
       "    </tr>\n",
       "    <tr>\n",
       "      <th>Educational Expenses</th>\n",
       "      <td>619.250000</td>\n",
       "    </tr>\n",
       "    <tr>\n",
       "      <th>Home Improvements</th>\n",
       "      <td>706.761517</td>\n",
       "    </tr>\n",
       "    <tr>\n",
       "      <th>Medical Bills</th>\n",
       "      <td>680.790230</td>\n",
       "    </tr>\n",
       "    <tr>\n",
       "      <th>Other</th>\n",
       "      <td>715.084815</td>\n",
       "    </tr>\n",
       "    <tr>\n",
       "      <th>Take a Trip</th>\n",
       "      <td>703.862500</td>\n",
       "    </tr>\n",
       "    <tr>\n",
       "      <th>other</th>\n",
       "      <td>700.718970</td>\n",
       "    </tr>\n",
       "    <tr>\n",
       "      <th rowspan=\"10\" valign=\"top\">Own Home</th>\n",
       "      <th>Business Loan</th>\n",
       "      <td>667.482500</td>\n",
       "    </tr>\n",
       "    <tr>\n",
       "      <th>Buy House</th>\n",
       "      <td>699.310714</td>\n",
       "    </tr>\n",
       "    <tr>\n",
       "      <th>Buy a Car</th>\n",
       "      <td>732.075472</td>\n",
       "    </tr>\n",
       "    <tr>\n",
       "      <th>Debt Consolidation</th>\n",
       "      <td>704.375825</td>\n",
       "    </tr>\n",
       "    <tr>\n",
       "      <th>Educational Expenses</th>\n",
       "      <td>672.570000</td>\n",
       "    </tr>\n",
       "    <tr>\n",
       "      <th>Home Improvements</th>\n",
       "      <td>704.054106</td>\n",
       "    </tr>\n",
       "    <tr>\n",
       "      <th>Medical Bills</th>\n",
       "      <td>699.987500</td>\n",
       "    </tr>\n",
       "    <tr>\n",
       "      <th>Other</th>\n",
       "      <td>705.950427</td>\n",
       "    </tr>\n",
       "    <tr>\n",
       "      <th>Take a Trip</th>\n",
       "      <td>679.990625</td>\n",
       "    </tr>\n",
       "    <tr>\n",
       "      <th>other</th>\n",
       "      <td>699.185429</td>\n",
       "    </tr>\n",
       "    <tr>\n",
       "      <th rowspan=\"10\" valign=\"top\">Rent</th>\n",
       "      <th>Business Loan</th>\n",
       "      <td>681.691176</td>\n",
       "    </tr>\n",
       "    <tr>\n",
       "      <th>Buy House</th>\n",
       "      <td>686.253289</td>\n",
       "    </tr>\n",
       "    <tr>\n",
       "      <th>Buy a Car</th>\n",
       "      <td>711.559799</td>\n",
       "    </tr>\n",
       "    <tr>\n",
       "      <th>Debt Consolidation</th>\n",
       "      <td>702.439976</td>\n",
       "    </tr>\n",
       "    <tr>\n",
       "      <th>Educational Expenses</th>\n",
       "      <td>723.518182</td>\n",
       "    </tr>\n",
       "    <tr>\n",
       "      <th>Home Improvements</th>\n",
       "      <td>713.317327</td>\n",
       "    </tr>\n",
       "    <tr>\n",
       "      <th>Medical Bills</th>\n",
       "      <td>690.536397</td>\n",
       "    </tr>\n",
       "    <tr>\n",
       "      <th>Other</th>\n",
       "      <td>703.802057</td>\n",
       "    </tr>\n",
       "    <tr>\n",
       "      <th>Take a Trip</th>\n",
       "      <td>699.185075</td>\n",
       "    </tr>\n",
       "    <tr>\n",
       "      <th>other</th>\n",
       "      <td>690.763423</td>\n",
       "    </tr>\n",
       "    <tr>\n",
       "      <th>...</th>\n",
       "      <th>...</th>\n",
       "      <th>...</th>\n",
       "      <td>...</td>\n",
       "    </tr>\n",
       "    <tr>\n",
       "      <th rowspan=\"30\" valign=\"top\">10</th>\n",
       "      <th rowspan=\"10\" valign=\"top\">Home Mortgage</th>\n",
       "      <th>Business Loan</th>\n",
       "      <td>694.505336</td>\n",
       "    </tr>\n",
       "    <tr>\n",
       "      <th>Buy House</th>\n",
       "      <td>683.297200</td>\n",
       "    </tr>\n",
       "    <tr>\n",
       "      <th>Buy a Car</th>\n",
       "      <td>730.265252</td>\n",
       "    </tr>\n",
       "    <tr>\n",
       "      <th>Debt Consolidation</th>\n",
       "      <td>709.428972</td>\n",
       "    </tr>\n",
       "    <tr>\n",
       "      <th>Educational Expenses</th>\n",
       "      <td>737.100000</td>\n",
       "    </tr>\n",
       "    <tr>\n",
       "      <th>Home Improvements</th>\n",
       "      <td>712.186843</td>\n",
       "    </tr>\n",
       "    <tr>\n",
       "      <th>Medical Bills</th>\n",
       "      <td>695.436533</td>\n",
       "    </tr>\n",
       "    <tr>\n",
       "      <th>Other</th>\n",
       "      <td>720.896169</td>\n",
       "    </tr>\n",
       "    <tr>\n",
       "      <th>Take a Trip</th>\n",
       "      <td>703.860131</td>\n",
       "    </tr>\n",
       "    <tr>\n",
       "      <th>other</th>\n",
       "      <td>700.545198</td>\n",
       "    </tr>\n",
       "    <tr>\n",
       "      <th rowspan=\"10\" valign=\"top\">Own Home</th>\n",
       "      <th>Business Loan</th>\n",
       "      <td>686.094444</td>\n",
       "    </tr>\n",
       "    <tr>\n",
       "      <th>Buy House</th>\n",
       "      <td>706.366667</td>\n",
       "    </tr>\n",
       "    <tr>\n",
       "      <th>Buy a Car</th>\n",
       "      <td>717.588462</td>\n",
       "    </tr>\n",
       "    <tr>\n",
       "      <th>Debt Consolidation</th>\n",
       "      <td>706.037453</td>\n",
       "    </tr>\n",
       "    <tr>\n",
       "      <th>Educational Expenses</th>\n",
       "      <td>740.000000</td>\n",
       "    </tr>\n",
       "    <tr>\n",
       "      <th>Home Improvements</th>\n",
       "      <td>707.942797</td>\n",
       "    </tr>\n",
       "    <tr>\n",
       "      <th>Medical Bills</th>\n",
       "      <td>700.997115</td>\n",
       "    </tr>\n",
       "    <tr>\n",
       "      <th>Other</th>\n",
       "      <td>711.397993</td>\n",
       "    </tr>\n",
       "    <tr>\n",
       "      <th>Take a Trip</th>\n",
       "      <td>707.060714</td>\n",
       "    </tr>\n",
       "    <tr>\n",
       "      <th>other</th>\n",
       "      <td>694.506667</td>\n",
       "    </tr>\n",
       "    <tr>\n",
       "      <th rowspan=\"10\" valign=\"top\">Rent</th>\n",
       "      <th>Business Loan</th>\n",
       "      <td>662.115365</td>\n",
       "    </tr>\n",
       "    <tr>\n",
       "      <th>Buy House</th>\n",
       "      <td>692.943293</td>\n",
       "    </tr>\n",
       "    <tr>\n",
       "      <th>Buy a Car</th>\n",
       "      <td>709.029508</td>\n",
       "    </tr>\n",
       "    <tr>\n",
       "      <th>Debt Consolidation</th>\n",
       "      <td>701.014065</td>\n",
       "    </tr>\n",
       "    <tr>\n",
       "      <th>Educational Expenses</th>\n",
       "      <td>731.500000</td>\n",
       "    </tr>\n",
       "    <tr>\n",
       "      <th>Home Improvements</th>\n",
       "      <td>707.417819</td>\n",
       "    </tr>\n",
       "    <tr>\n",
       "      <th>Medical Bills</th>\n",
       "      <td>699.525000</td>\n",
       "    </tr>\n",
       "    <tr>\n",
       "      <th>Other</th>\n",
       "      <td>693.374393</td>\n",
       "    </tr>\n",
       "    <tr>\n",
       "      <th>Take a Trip</th>\n",
       "      <td>705.709122</td>\n",
       "    </tr>\n",
       "    <tr>\n",
       "      <th>other</th>\n",
       "      <td>689.003924</td>\n",
       "    </tr>\n",
       "  </tbody>\n",
       "</table>\n",
       "<p>326 rows × 1 columns</p>\n",
       "</div>"
      ],
      "text/plain": [
       "                                                          Credit_Score\n",
       "Years_in_current_job Home_Ownership Purpose                           \n",
       "0                    Home Mortgage  Business Loan           683.672876\n",
       "                                    Buy House               699.069792\n",
       "                                    Buy a Car               725.505372\n",
       "                                    Debt Consolidation      706.811944\n",
       "                                    Educational Expenses    619.250000\n",
       "                                    Home Improvements       706.761517\n",
       "                                    Medical Bills           680.790230\n",
       "                                    Other                   715.084815\n",
       "                                    Take a Trip             703.862500\n",
       "                                    other                   700.718970\n",
       "                     Own Home       Business Loan           667.482500\n",
       "                                    Buy House               699.310714\n",
       "                                    Buy a Car               732.075472\n",
       "                                    Debt Consolidation      704.375825\n",
       "                                    Educational Expenses    672.570000\n",
       "                                    Home Improvements       704.054106\n",
       "                                    Medical Bills           699.987500\n",
       "                                    Other                   705.950427\n",
       "                                    Take a Trip             679.990625\n",
       "                                    other                   699.185429\n",
       "                     Rent           Business Loan           681.691176\n",
       "                                    Buy House               686.253289\n",
       "                                    Buy a Car               711.559799\n",
       "                                    Debt Consolidation      702.439976\n",
       "                                    Educational Expenses    723.518182\n",
       "                                    Home Improvements       713.317327\n",
       "                                    Medical Bills           690.536397\n",
       "                                    Other                   703.802057\n",
       "                                    Take a Trip             699.185075\n",
       "                                    other                   690.763423\n",
       "...                                                                ...\n",
       "10                   Home Mortgage  Business Loan           694.505336\n",
       "                                    Buy House               683.297200\n",
       "                                    Buy a Car               730.265252\n",
       "                                    Debt Consolidation      709.428972\n",
       "                                    Educational Expenses    737.100000\n",
       "                                    Home Improvements       712.186843\n",
       "                                    Medical Bills           695.436533\n",
       "                                    Other                   720.896169\n",
       "                                    Take a Trip             703.860131\n",
       "                                    other                   700.545198\n",
       "                     Own Home       Business Loan           686.094444\n",
       "                                    Buy House               706.366667\n",
       "                                    Buy a Car               717.588462\n",
       "                                    Debt Consolidation      706.037453\n",
       "                                    Educational Expenses    740.000000\n",
       "                                    Home Improvements       707.942797\n",
       "                                    Medical Bills           700.997115\n",
       "                                    Other                   711.397993\n",
       "                                    Take a Trip             707.060714\n",
       "                                    other                   694.506667\n",
       "                     Rent           Business Loan           662.115365\n",
       "                                    Buy House               692.943293\n",
       "                                    Buy a Car               709.029508\n",
       "                                    Debt Consolidation      701.014065\n",
       "                                    Educational Expenses    731.500000\n",
       "                                    Home Improvements       707.417819\n",
       "                                    Medical Bills           699.525000\n",
       "                                    Other                   693.374393\n",
       "                                    Take a Trip             705.709122\n",
       "                                    other                   689.003924\n",
       "\n",
       "[326 rows x 1 columns]"
      ]
     },
     "execution_count": 98,
     "metadata": {},
     "output_type": "execute_result"
    }
   ],
   "source": [
    "#Pivot tables helps in summarizing data in a easy way\n",
    "\n",
    "#Credit_Score has some missing values, instead of replacing with same mean, we can calculate mean by Years_in_current_job,Home_Ownership and Purpose  variables\n",
    "\n",
    "\n",
    "prep.pivot_table(values=\"Credit_Score\",index=[\"Years_in_current_job\",\"Home_Ownership\",\"Purpose\"],aggfunc=np.mean)"
   ]
  },
  {
   "cell_type": "code",
   "execution_count": 99,
   "metadata": {
    "collapsed": true
   },
   "outputs": [],
   "source": [
    "# Multi Indexing"
   ]
  },
  {
   "cell_type": "code",
   "execution_count": 100,
   "metadata": {
    "collapsed": true
   },
   "outputs": [],
   "source": [
    "#Each index is made up with a combination of more than one value"
   ]
  },
  {
   "cell_type": "markdown",
   "metadata": {},
   "source": [
    "# 1. For Credit_Sscore"
   ]
  },
  {
   "cell_type": "code",
   "execution_count": 101,
   "metadata": {
    "collapsed": true
   },
   "outputs": [],
   "source": [
    "impute_grps = prep.pivot_table(values=\"Credit_Score\",index=[\"Years_in_current_job\",\"Home_Ownership\",\"Purpose\"],aggfunc=np.mean)\n",
    "\n",
    "#iterate only through rows with missing Credit Scoring\n",
    "for i,row in prep.loc[prep['Credit_Score'].isnull(),:].iterrows():\n",
    "  ind = tuple([row['Years_in_current_job'],row['Home_Ownership'],row['Purpose']])\n",
    "  prep.loc[i,'Credit_Score'] = impute_grps.loc[ind].values[0]"
   ]
  },
  {
   "cell_type": "code",
   "execution_count": 102,
   "metadata": {},
   "outputs": [
    {
     "data": {
      "text/plain": [
       "Loan_ID                              0\n",
       "Customer_ID                          0\n",
       "Loan_Status                          0\n",
       "Current_Loan_Amount                  0\n",
       "Term                                 0\n",
       "Credit_Score                         1\n",
       "Years_in_current_job                 0\n",
       "Home_Ownership                       0\n",
       "Annual_Income                    44498\n",
       "Purpose                              0\n",
       "Monthly_Debt                         0\n",
       "Years_of_Credit_History              0\n",
       "Months_since_last_delinquent    118262\n",
       "Number_of_Open_Accounts              0\n",
       "Number_of_Credit_Problems            0\n",
       "Current_Credit_Balance               0\n",
       "Maximum_Open_Credit                  0\n",
       "Bankruptcies                       452\n",
       "Tax_Liens                           22\n",
       "Current_Loan_Amount_log              0\n",
       "Current_Credit_Balance_log           0\n",
       "Maximum_Open_Credit_log              0\n",
       "Monthly_Debt_log                     0\n",
       "dtype: int64"
      ]
     },
     "execution_count": 102,
     "metadata": {},
     "output_type": "execute_result"
    }
   ],
   "source": [
    "prep.isnull().sum()"
   ]
  },
  {
   "cell_type": "code",
   "execution_count": 103,
   "metadata": {},
   "outputs": [
    {
     "data": {
      "text/html": [
       "<div>\n",
       "<style>\n",
       "    .dataframe thead tr:only-child th {\n",
       "        text-align: right;\n",
       "    }\n",
       "\n",
       "    .dataframe thead th {\n",
       "        text-align: left;\n",
       "    }\n",
       "\n",
       "    .dataframe tbody tr th {\n",
       "        vertical-align: top;\n",
       "    }\n",
       "</style>\n",
       "<table border=\"1\" class=\"dataframe\">\n",
       "  <thead>\n",
       "    <tr style=\"text-align: right;\">\n",
       "      <th></th>\n",
       "      <th>Loan_ID</th>\n",
       "      <th>Customer_ID</th>\n",
       "      <th>Loan_Status</th>\n",
       "      <th>Current_Loan_Amount</th>\n",
       "      <th>Term</th>\n",
       "      <th>Credit_Score</th>\n",
       "      <th>Years_in_current_job</th>\n",
       "      <th>Home_Ownership</th>\n",
       "      <th>Annual_Income</th>\n",
       "      <th>Purpose</th>\n",
       "      <th>...</th>\n",
       "      <th>Number_of_Open_Accounts</th>\n",
       "      <th>Number_of_Credit_Problems</th>\n",
       "      <th>Current_Credit_Balance</th>\n",
       "      <th>Maximum_Open_Credit</th>\n",
       "      <th>Bankruptcies</th>\n",
       "      <th>Tax_Liens</th>\n",
       "      <th>Current_Loan_Amount_log</th>\n",
       "      <th>Current_Credit_Balance_log</th>\n",
       "      <th>Maximum_Open_Credit_log</th>\n",
       "      <th>Monthly_Debt_log</th>\n",
       "    </tr>\n",
       "  </thead>\n",
       "  <tbody>\n",
       "    <tr>\n",
       "      <th>39864</th>\n",
       "      <td>3a0240e7-a657-4c55-b612-e176aac6bbda</td>\n",
       "      <td>5297be04-cc24-4a6e-9443-9ef78e5e5409</td>\n",
       "      <td>Fully Paid</td>\n",
       "      <td>2220.0</td>\n",
       "      <td>Short Term</td>\n",
       "      <td>NaN</td>\n",
       "      <td>7</td>\n",
       "      <td>Own Home</td>\n",
       "      <td>NaN</td>\n",
       "      <td>Educational Expenses</td>\n",
       "      <td>...</td>\n",
       "      <td>5</td>\n",
       "      <td>0</td>\n",
       "      <td>3809.0</td>\n",
       "      <td>4144.0</td>\n",
       "      <td>0.0</td>\n",
       "      <td>0.0</td>\n",
       "      <td>7.705713</td>\n",
       "      <td>8.245384</td>\n",
       "      <td>8.329658</td>\n",
       "      <td>6.408117</td>\n",
       "    </tr>\n",
       "  </tbody>\n",
       "</table>\n",
       "<p>1 rows × 23 columns</p>\n",
       "</div>"
      ],
      "text/plain": [
       "                                    Loan_ID  \\\n",
       "39864  3a0240e7-a657-4c55-b612-e176aac6bbda   \n",
       "\n",
       "                                Customer_ID Loan_Status  Current_Loan_Amount  \\\n",
       "39864  5297be04-cc24-4a6e-9443-9ef78e5e5409  Fully Paid               2220.0   \n",
       "\n",
       "             Term  Credit_Score Years_in_current_job Home_Ownership  \\\n",
       "39864  Short Term           NaN                    7       Own Home   \n",
       "\n",
       "       Annual_Income               Purpose        ...         \\\n",
       "39864            NaN  Educational Expenses        ...          \n",
       "\n",
       "       Number_of_Open_Accounts  Number_of_Credit_Problems  \\\n",
       "39864                        5                          0   \n",
       "\n",
       "       Current_Credit_Balance  Maximum_Open_Credit  Bankruptcies  Tax_Liens  \\\n",
       "39864                  3809.0               4144.0           0.0        0.0   \n",
       "\n",
       "       Current_Loan_Amount_log  Current_Credit_Balance_log  \\\n",
       "39864                 7.705713                    8.245384   \n",
       "\n",
       "       Maximum_Open_Credit_log  Monthly_Debt_log  \n",
       "39864                 8.329658          6.408117  \n",
       "\n",
       "[1 rows x 23 columns]"
      ]
     },
     "execution_count": 103,
     "metadata": {},
     "output_type": "execute_result"
    }
   ],
   "source": [
    "prep[pd.isnull(prep['Credit_Score'])]"
   ]
  },
  {
   "cell_type": "code",
   "execution_count": 104,
   "metadata": {},
   "outputs": [
    {
     "data": {
      "text/plain": [
       "841"
      ]
     },
     "execution_count": 104,
     "metadata": {},
     "output_type": "execute_result"
    }
   ],
   "source": [
    "prep.Credit_Score.nunique()"
   ]
  },
  {
   "cell_type": "code",
   "execution_count": 105,
   "metadata": {
    "collapsed": true
   },
   "outputs": [],
   "source": [
    "prep_credit=prep[(prep['Years_in_current_job']==7)& (prep['Purpose']=='Educational Expenses')]"
   ]
  },
  {
   "cell_type": "code",
   "execution_count": 106,
   "metadata": {
    "collapsed": true
   },
   "outputs": [],
   "source": [
    "prep.iloc[:, 5] = prep.iloc[:, 5].fillna(prep_credit.mean(0)['Credit_Score'])"
   ]
  },
  {
   "cell_type": "code",
   "execution_count": 107,
   "metadata": {},
   "outputs": [
    {
     "data": {
      "text/plain": [
       "<matplotlib.axes._subplots.AxesSubplot at 0x1a2781b9b0>"
      ]
     },
     "execution_count": 107,
     "metadata": {},
     "output_type": "execute_result"
    },
    {
     "data": {
      "image/png": "[encoded data removed]",
      "text/plain": [
       "<matplotlib.figure.Figure at 0x1a2781b2b0>"
      ]
     },
     "metadata": {},
     "output_type": "display_data"
    }
   ],
   "source": [
    "plt.figure(figsize=(10,8))\n",
    "prep['Credit_Score'].hist(bins=300)"
   ]
  },
  {
   "cell_type": "code",
   "execution_count": 108,
   "metadata": {
    "collapsed": true
   },
   "outputs": [],
   "source": [
    "prep['Credit_Score_log']=np.log(prep['Credit_Score'])"
   ]
  },
  {
   "cell_type": "code",
   "execution_count": 109,
   "metadata": {},
   "outputs": [
    {
     "data": {
      "text/plain": [
       "<matplotlib.axes._subplots.AxesSubplot at 0x1a3338fef0>"
      ]
     },
     "execution_count": 109,
     "metadata": {},
     "output_type": "execute_result"
    },
    {
     "data": {
      "image/png": "[encoded data removed]",
      "text/plain": [
       "<matplotlib.figure.Figure at 0x1a24c9d8d0>"
      ]
     },
     "metadata": {},
     "output_type": "display_data"
    }
   ],
   "source": [
    "prep['Credit_Score_log'].hist(bins=50)"
   ]
  },
  {
   "cell_type": "code",
   "execution_count": 110,
   "metadata": {},
   "outputs": [
    {
     "data": {
      "text/plain": [
       "<matplotlib.axes._subplots.AxesSubplot at 0x1a276992b0>"
      ]
     },
     "execution_count": 110,
     "metadata": {},
     "output_type": "execute_result"
    },
    {
     "data": {
      "image/png": "[encoded data removed]",
      "text/plain": [
       "<matplotlib.figure.Figure at 0x11c134630>"
      ]
     },
     "metadata": {},
     "output_type": "display_data"
    }
   ],
   "source": [
    "sns.distplot(prep['Credit_Score'])"
   ]
  },
  {
   "cell_type": "markdown",
   "metadata": {},
   "source": [
    "# 2. For Annual_Income"
   ]
  },
  {
   "cell_type": "code",
   "execution_count": 111,
   "metadata": {},
   "outputs": [
    {
     "data": {
      "text/html": [
       "<div>\n",
       "<style>\n",
       "    .dataframe thead tr:only-child th {\n",
       "        text-align: right;\n",
       "    }\n",
       "\n",
       "    .dataframe thead th {\n",
       "        text-align: left;\n",
       "    }\n",
       "\n",
       "    .dataframe tbody tr th {\n",
       "        vertical-align: top;\n",
       "    }\n",
       "</style>\n",
       "<table border=\"1\" class=\"dataframe\">\n",
       "  <thead>\n",
       "    <tr style=\"text-align: right;\">\n",
       "      <th></th>\n",
       "      <th></th>\n",
       "      <th></th>\n",
       "      <th>Annual_Income</th>\n",
       "    </tr>\n",
       "    <tr>\n",
       "      <th>Years_in_current_job</th>\n",
       "      <th>Home_Ownership</th>\n",
       "      <th>Purpose</th>\n",
       "      <th></th>\n",
       "    </tr>\n",
       "  </thead>\n",
       "  <tbody>\n",
       "    <tr>\n",
       "      <th rowspan=\"30\" valign=\"top\">0</th>\n",
       "      <th rowspan=\"10\" valign=\"top\">Home Mortgage</th>\n",
       "      <th>Business Loan</th>\n",
       "      <td>88669.360566</td>\n",
       "    </tr>\n",
       "    <tr>\n",
       "      <th>Buy House</th>\n",
       "      <td>83862.479167</td>\n",
       "    </tr>\n",
       "    <tr>\n",
       "      <th>Buy a Car</th>\n",
       "      <td>60294.595041</td>\n",
       "    </tr>\n",
       "    <tr>\n",
       "      <th>Debt Consolidation</th>\n",
       "      <td>71444.335750</td>\n",
       "    </tr>\n",
       "    <tr>\n",
       "      <th>Educational Expenses</th>\n",
       "      <td>99275.666667</td>\n",
       "    </tr>\n",
       "    <tr>\n",
       "      <th>Home Improvements</th>\n",
       "      <td>79755.495700</td>\n",
       "    </tr>\n",
       "    <tr>\n",
       "      <th>Medical Bills</th>\n",
       "      <td>68916.252874</td>\n",
       "    </tr>\n",
       "    <tr>\n",
       "      <th>Other</th>\n",
       "      <td>75801.895062</td>\n",
       "    </tr>\n",
       "    <tr>\n",
       "      <th>Take a Trip</th>\n",
       "      <td>62543.074074</td>\n",
       "    </tr>\n",
       "    <tr>\n",
       "      <th>other</th>\n",
       "      <td>64857.971897</td>\n",
       "    </tr>\n",
       "    <tr>\n",
       "      <th rowspan=\"10\" valign=\"top\">Own Home</th>\n",
       "      <th>Business Loan</th>\n",
       "      <td>66613.700000</td>\n",
       "    </tr>\n",
       "    <tr>\n",
       "      <th>Buy House</th>\n",
       "      <td>45099.000000</td>\n",
       "    </tr>\n",
       "    <tr>\n",
       "      <th>Buy a Car</th>\n",
       "      <td>46518.792453</td>\n",
       "    </tr>\n",
       "    <tr>\n",
       "      <th>Debt Consolidation</th>\n",
       "      <td>49332.696391</td>\n",
       "    </tr>\n",
       "    <tr>\n",
       "      <th>Educational Expenses</th>\n",
       "      <td>55369.400000</td>\n",
       "    </tr>\n",
       "    <tr>\n",
       "      <th>Home Improvements</th>\n",
       "      <td>55752.524960</td>\n",
       "    </tr>\n",
       "    <tr>\n",
       "      <th>Medical Bills</th>\n",
       "      <td>48927.722222</td>\n",
       "    </tr>\n",
       "    <tr>\n",
       "      <th>Other</th>\n",
       "      <td>50656.713675</td>\n",
       "    </tr>\n",
       "    <tr>\n",
       "      <th>Take a Trip</th>\n",
       "      <td>47413.625000</td>\n",
       "    </tr>\n",
       "    <tr>\n",
       "      <th>other</th>\n",
       "      <td>45565.045714</td>\n",
       "    </tr>\n",
       "    <tr>\n",
       "      <th rowspan=\"10\" valign=\"top\">Rent</th>\n",
       "      <th>Business Loan</th>\n",
       "      <td>58495.682353</td>\n",
       "    </tr>\n",
       "    <tr>\n",
       "      <th>Buy House</th>\n",
       "      <td>63263.539474</td>\n",
       "    </tr>\n",
       "    <tr>\n",
       "      <th>Buy a Car</th>\n",
       "      <td>49218.231156</td>\n",
       "    </tr>\n",
       "    <tr>\n",
       "      <th>Debt Consolidation</th>\n",
       "      <td>55437.840771</td>\n",
       "    </tr>\n",
       "    <tr>\n",
       "      <th>Educational Expenses</th>\n",
       "      <td>35158.454545</td>\n",
       "    </tr>\n",
       "    <tr>\n",
       "      <th>Home Improvements</th>\n",
       "      <td>62649.722772</td>\n",
       "    </tr>\n",
       "    <tr>\n",
       "      <th>Medical Bills</th>\n",
       "      <td>50853.301471</td>\n",
       "    </tr>\n",
       "    <tr>\n",
       "      <th>Other</th>\n",
       "      <td>58052.660047</td>\n",
       "    </tr>\n",
       "    <tr>\n",
       "      <th>Take a Trip</th>\n",
       "      <td>41111.626866</td>\n",
       "    </tr>\n",
       "    <tr>\n",
       "      <th>other</th>\n",
       "      <td>50187.843763</td>\n",
       "    </tr>\n",
       "    <tr>\n",
       "      <th>...</th>\n",
       "      <th>...</th>\n",
       "      <th>...</th>\n",
       "      <td>...</td>\n",
       "    </tr>\n",
       "    <tr>\n",
       "      <th rowspan=\"30\" valign=\"top\">10</th>\n",
       "      <th rowspan=\"10\" valign=\"top\">Home Mortgage</th>\n",
       "      <th>Business Loan</th>\n",
       "      <td>105557.836427</td>\n",
       "    </tr>\n",
       "    <tr>\n",
       "      <th>Buy House</th>\n",
       "      <td>97854.584000</td>\n",
       "    </tr>\n",
       "    <tr>\n",
       "      <th>Buy a Car</th>\n",
       "      <td>84174.490566</td>\n",
       "    </tr>\n",
       "    <tr>\n",
       "      <th>Debt Consolidation</th>\n",
       "      <td>84448.951814</td>\n",
       "    </tr>\n",
       "    <tr>\n",
       "      <th>Educational Expenses</th>\n",
       "      <td>99322.366667</td>\n",
       "    </tr>\n",
       "    <tr>\n",
       "      <th>Home Improvements</th>\n",
       "      <td>95851.755298</td>\n",
       "    </tr>\n",
       "    <tr>\n",
       "      <th>Medical Bills</th>\n",
       "      <td>90489.358101</td>\n",
       "    </tr>\n",
       "    <tr>\n",
       "      <th>Other</th>\n",
       "      <td>91744.829811</td>\n",
       "    </tr>\n",
       "    <tr>\n",
       "      <th>Take a Trip</th>\n",
       "      <td>79694.183007</td>\n",
       "    </tr>\n",
       "    <tr>\n",
       "      <th>other</th>\n",
       "      <td>90061.967632</td>\n",
       "    </tr>\n",
       "    <tr>\n",
       "      <th rowspan=\"10\" valign=\"top\">Own Home</th>\n",
       "      <th>Business Loan</th>\n",
       "      <td>107576.904762</td>\n",
       "    </tr>\n",
       "    <tr>\n",
       "      <th>Buy House</th>\n",
       "      <td>87152.303030</td>\n",
       "    </tr>\n",
       "    <tr>\n",
       "      <th>Buy a Car</th>\n",
       "      <td>80914.584615</td>\n",
       "    </tr>\n",
       "    <tr>\n",
       "      <th>Debt Consolidation</th>\n",
       "      <td>72689.440888</td>\n",
       "    </tr>\n",
       "    <tr>\n",
       "      <th>Educational Expenses</th>\n",
       "      <td>75750.000000</td>\n",
       "    </tr>\n",
       "    <tr>\n",
       "      <th>Home Improvements</th>\n",
       "      <td>83824.776483</td>\n",
       "    </tr>\n",
       "    <tr>\n",
       "      <th>Medical Bills</th>\n",
       "      <td>57589.673077</td>\n",
       "    </tr>\n",
       "    <tr>\n",
       "      <th>Other</th>\n",
       "      <td>78433.456204</td>\n",
       "    </tr>\n",
       "    <tr>\n",
       "      <th>Take a Trip</th>\n",
       "      <td>67789.357143</td>\n",
       "    </tr>\n",
       "    <tr>\n",
       "      <th>other</th>\n",
       "      <td>74796.395322</td>\n",
       "    </tr>\n",
       "    <tr>\n",
       "      <th rowspan=\"10\" valign=\"top\">Rent</th>\n",
       "      <th>Business Loan</th>\n",
       "      <td>83743.296875</td>\n",
       "    </tr>\n",
       "    <tr>\n",
       "      <th>Buy House</th>\n",
       "      <td>79712.231707</td>\n",
       "    </tr>\n",
       "    <tr>\n",
       "      <th>Buy a Car</th>\n",
       "      <td>71553.696721</td>\n",
       "    </tr>\n",
       "    <tr>\n",
       "      <th>Debt Consolidation</th>\n",
       "      <td>67837.861780</td>\n",
       "    </tr>\n",
       "    <tr>\n",
       "      <th>Educational Expenses</th>\n",
       "      <td>44408.000000</td>\n",
       "    </tr>\n",
       "    <tr>\n",
       "      <th>Home Improvements</th>\n",
       "      <td>82121.257092</td>\n",
       "    </tr>\n",
       "    <tr>\n",
       "      <th>Medical Bills</th>\n",
       "      <td>66697.512195</td>\n",
       "    </tr>\n",
       "    <tr>\n",
       "      <th>Other</th>\n",
       "      <td>71605.769231</td>\n",
       "    </tr>\n",
       "    <tr>\n",
       "      <th>Take a Trip</th>\n",
       "      <td>66701.702703</td>\n",
       "    </tr>\n",
       "    <tr>\n",
       "      <th>other</th>\n",
       "      <td>67518.912791</td>\n",
       "    </tr>\n",
       "  </tbody>\n",
       "</table>\n",
       "<p>326 rows × 1 columns</p>\n",
       "</div>"
      ],
      "text/plain": [
       "                                                          Annual_Income\n",
       "Years_in_current_job Home_Ownership Purpose                            \n",
       "0                    Home Mortgage  Business Loan          88669.360566\n",
       "                                    Buy House              83862.479167\n",
       "                                    Buy a Car              60294.595041\n",
       "                                    Debt Consolidation     71444.335750\n",
       "                                    Educational Expenses   99275.666667\n",
       "                                    Home Improvements      79755.495700\n",
       "                                    Medical Bills          68916.252874\n",
       "                                    Other                  75801.895062\n",
       "                                    Take a Trip            62543.074074\n",
       "                                    other                  64857.971897\n",
       "                     Own Home       Business Loan          66613.700000\n",
       "                                    Buy House              45099.000000\n",
       "                                    Buy a Car              46518.792453\n",
       "                                    Debt Consolidation     49332.696391\n",
       "                                    Educational Expenses   55369.400000\n",
       "                                    Home Improvements      55752.524960\n",
       "                                    Medical Bills          48927.722222\n",
       "                                    Other                  50656.713675\n",
       "                                    Take a Trip            47413.625000\n",
       "                                    other                  45565.045714\n",
       "                     Rent           Business Loan          58495.682353\n",
       "                                    Buy House              63263.539474\n",
       "                                    Buy a Car              49218.231156\n",
       "                                    Debt Consolidation     55437.840771\n",
       "                                    Educational Expenses   35158.454545\n",
       "                                    Home Improvements      62649.722772\n",
       "                                    Medical Bills          50853.301471\n",
       "                                    Other                  58052.660047\n",
       "                                    Take a Trip            41111.626866\n",
       "                                    other                  50187.843763\n",
       "...                                                                 ...\n",
       "10                   Home Mortgage  Business Loan         105557.836427\n",
       "                                    Buy House              97854.584000\n",
       "                                    Buy a Car              84174.490566\n",
       "                                    Debt Consolidation     84448.951814\n",
       "                                    Educational Expenses   99322.366667\n",
       "                                    Home Improvements      95851.755298\n",
       "                                    Medical Bills          90489.358101\n",
       "                                    Other                  91744.829811\n",
       "                                    Take a Trip            79694.183007\n",
       "                                    other                  90061.967632\n",
       "                     Own Home       Business Loan         107576.904762\n",
       "                                    Buy House              87152.303030\n",
       "                                    Buy a Car              80914.584615\n",
       "                                    Debt Consolidation     72689.440888\n",
       "                                    Educational Expenses   75750.000000\n",
       "                                    Home Improvements      83824.776483\n",
       "                                    Medical Bills          57589.673077\n",
       "                                    Other                  78433.456204\n",
       "                                    Take a Trip            67789.357143\n",
       "                                    other                  74796.395322\n",
       "                     Rent           Business Loan          83743.296875\n",
       "                                    Buy House              79712.231707\n",
       "                                    Buy a Car              71553.696721\n",
       "                                    Debt Consolidation     67837.861780\n",
       "                                    Educational Expenses   44408.000000\n",
       "                                    Home Improvements      82121.257092\n",
       "                                    Medical Bills          66697.512195\n",
       "                                    Other                  71605.769231\n",
       "                                    Take a Trip            66701.702703\n",
       "                                    other                  67518.912791\n",
       "\n",
       "[326 rows x 1 columns]"
      ]
     },
     "execution_count": 111,
     "metadata": {},
     "output_type": "execute_result"
    }
   ],
   "source": [
    "\n",
    "prep.pivot_table(values=\"Annual_Income\",index=[\"Years_in_current_job\",\"Home_Ownership\",\"Purpose\"],aggfunc=np.mean)"
   ]
  },
  {
   "cell_type": "code",
   "execution_count": 112,
   "metadata": {
    "collapsed": true
   },
   "outputs": [],
   "source": [
    "impute_grps_income = prep.pivot_table(values=\"Annual_Income\",index=[\"Years_in_current_job\",\"Home_Ownership\",\"Purpose\"],aggfunc=np.mean)\n",
    "\n",
    "#iterate only through rows with missing Credit Scoring\n",
    "for i,row in prep.loc[prep['Annual_Income'].isnull(),:].iterrows():\n",
    "  ind2 = tuple([row['Years_in_current_job'],row['Home_Ownership'],row['Purpose']])\n",
    "  prep.loc[i,'Annual_Income'] = impute_grps_income.loc[ind2].values[0]"
   ]
  },
  {
   "cell_type": "code",
   "execution_count": 113,
   "metadata": {},
   "outputs": [],
   "source": [
    "prep_income=prep[pd.isnull(prep['Annual_Income'])]"
   ]
  },
  {
   "cell_type": "code",
   "execution_count": 114,
   "metadata": {
    "collapsed": true
   },
   "outputs": [],
   "source": [
    "prep_income=prep[(prep['Years_in_current_job']==7)& (prep['Purpose']=='Educational Expenses')]"
   ]
  },
  {
   "cell_type": "code",
   "execution_count": 115,
   "metadata": {
    "collapsed": true
   },
   "outputs": [],
   "source": [
    "prep.iloc[:, 8] = prep.iloc[:, 8].fillna(prep_income.mean(0)['Annual_Income'])"
   ]
  },
  {
   "cell_type": "code",
   "execution_count": 116,
   "metadata": {},
   "outputs": [
    {
     "data": {
      "text/plain": [
       "Loan_ID                              0\n",
       "Customer_ID                          0\n",
       "Loan_Status                          0\n",
       "Current_Loan_Amount                  0\n",
       "Term                                 0\n",
       "Credit_Score                         0\n",
       "Years_in_current_job                 0\n",
       "Home_Ownership                       0\n",
       "Annual_Income                        0\n",
       "Purpose                              0\n",
       "Monthly_Debt                         0\n",
       "Years_of_Credit_History              0\n",
       "Months_since_last_delinquent    118262\n",
       "Number_of_Open_Accounts              0\n",
       "Number_of_Credit_Problems            0\n",
       "Current_Credit_Balance               0\n",
       "Maximum_Open_Credit                  0\n",
       "Bankruptcies                       452\n",
       "Tax_Liens                           22\n",
       "Current_Loan_Amount_log              0\n",
       "Current_Credit_Balance_log           0\n",
       "Maximum_Open_Credit_log              0\n",
       "Monthly_Debt_log                     0\n",
       "Credit_Score_log                     0\n",
       "dtype: int64"
      ]
     },
     "execution_count": 116,
     "metadata": {},
     "output_type": "execute_result"
    }
   ],
   "source": [
    "prep.isnull().sum()"
   ]
  },
  {
   "cell_type": "code",
   "execution_count": 117,
   "metadata": {},
   "outputs": [
    {
     "data": {
      "text/plain": [
       "0.0    192727\n",
       "1.0     21506\n",
       "2.0       818\n",
       "3.0       155\n",
       "4.0        25\n",
       "5.0        13\n",
       "6.0         3\n",
       "7.0         1\n",
       "Name: Bankruptcies, dtype: int64"
      ]
     },
     "execution_count": 117,
     "metadata": {},
     "output_type": "execute_result"
    }
   ],
   "source": [
    "prep.Bankruptcies.value_counts()"
   ]
  },
  {
   "cell_type": "code",
   "execution_count": 118,
   "metadata": {},
   "outputs": [
    {
     "data": {
      "text/plain": [
       "0.89349559573481685"
      ]
     },
     "execution_count": 118,
     "metadata": {},
     "output_type": "execute_result"
    }
   ],
   "source": [
    "prep.Bankruptcies.value_counts()[0]/prep.shape[0]"
   ]
  },
  {
   "cell_type": "code",
   "execution_count": 119,
   "metadata": {
    "collapsed": true
   },
   "outputs": [],
   "source": [
    "# 89% People have not file bankruptcies"
   ]
  },
  {
   "cell_type": "code",
   "execution_count": 120,
   "metadata": {
    "collapsed": true
   },
   "outputs": [],
   "source": [
    "# Since we know that 89% people have not file bankrupcies, s0 we will be filling missiing values with mean values"
   ]
  },
  {
   "cell_type": "code",
   "execution_count": 121,
   "metadata": {},
   "outputs": [
    {
     "data": {
      "text/html": [
       "<div>\n",
       "<style>\n",
       "    .dataframe thead tr:only-child th {\n",
       "        text-align: right;\n",
       "    }\n",
       "\n",
       "    .dataframe thead th {\n",
       "        text-align: left;\n",
       "    }\n",
       "\n",
       "    .dataframe tbody tr th {\n",
       "        vertical-align: top;\n",
       "    }\n",
       "</style>\n",
       "<table border=\"1\" class=\"dataframe\">\n",
       "  <thead>\n",
       "    <tr style=\"text-align: right;\">\n",
       "      <th></th>\n",
       "      <th>Loan_ID</th>\n",
       "      <th>Customer_ID</th>\n",
       "      <th>Loan_Status</th>\n",
       "      <th>Current_Loan_Amount</th>\n",
       "      <th>Term</th>\n",
       "      <th>Credit_Score</th>\n",
       "      <th>Years_in_current_job</th>\n",
       "      <th>Home_Ownership</th>\n",
       "      <th>Annual_Income</th>\n",
       "      <th>Purpose</th>\n",
       "      <th>...</th>\n",
       "      <th>Number_of_Credit_Problems</th>\n",
       "      <th>Current_Credit_Balance</th>\n",
       "      <th>Maximum_Open_Credit</th>\n",
       "      <th>Bankruptcies</th>\n",
       "      <th>Tax_Liens</th>\n",
       "      <th>Current_Loan_Amount_log</th>\n",
       "      <th>Current_Credit_Balance_log</th>\n",
       "      <th>Maximum_Open_Credit_log</th>\n",
       "      <th>Monthly_Debt_log</th>\n",
       "      <th>Credit_Score_log</th>\n",
       "    </tr>\n",
       "  </thead>\n",
       "  <tbody>\n",
       "    <tr>\n",
       "      <th>0</th>\n",
       "      <td>000025bb-5694-4cff-b17d-192b1a98ba44</td>\n",
       "      <td>5ebc8bb1-5eb9-4404-b11b-a6eebc401a19</td>\n",
       "      <td>Fully Paid</td>\n",
       "      <td>11520.0</td>\n",
       "      <td>Short Term</td>\n",
       "      <td>741.0</td>\n",
       "      <td>10</td>\n",
       "      <td>Home Mortgage</td>\n",
       "      <td>33694.0</td>\n",
       "      <td>Debt Consolidation</td>\n",
       "      <td>...</td>\n",
       "      <td>0</td>\n",
       "      <td>6760.0</td>\n",
       "      <td>16056.0</td>\n",
       "      <td>0.0</td>\n",
       "      <td>0.0</td>\n",
       "      <td>9.351927</td>\n",
       "      <td>8.818926</td>\n",
       "      <td>9.683900</td>\n",
       "      <td>6.371663</td>\n",
       "      <td>6.608001</td>\n",
       "    </tr>\n",
       "    <tr>\n",
       "      <th>1</th>\n",
       "      <td>00002c49-3a29-4bd4-8f67-c8f8fbc1048c</td>\n",
       "      <td>927b388d-2e01-423f-a8dc-f7e42d668f46</td>\n",
       "      <td>Fully Paid</td>\n",
       "      <td>3441.0</td>\n",
       "      <td>Short Term</td>\n",
       "      <td>734.0</td>\n",
       "      <td>4</td>\n",
       "      <td>Home Mortgage</td>\n",
       "      <td>42269.0</td>\n",
       "      <td>other</td>\n",
       "      <td>...</td>\n",
       "      <td>0</td>\n",
       "      <td>6262.0</td>\n",
       "      <td>19149.0</td>\n",
       "      <td>0.0</td>\n",
       "      <td>0.0</td>\n",
       "      <td>8.143808</td>\n",
       "      <td>8.742415</td>\n",
       "      <td>9.860058</td>\n",
       "      <td>7.009445</td>\n",
       "      <td>6.598509</td>\n",
       "    </tr>\n",
       "    <tr>\n",
       "      <th>2</th>\n",
       "      <td>00002d89-27f3-409b-aa76-90834f359a65</td>\n",
       "      <td>defce609-c631-447d-aad6-1270615e89c4</td>\n",
       "      <td>Fully Paid</td>\n",
       "      <td>21029.0</td>\n",
       "      <td>Short Term</td>\n",
       "      <td>747.0</td>\n",
       "      <td>10</td>\n",
       "      <td>Home Mortgage</td>\n",
       "      <td>90126.0</td>\n",
       "      <td>Debt Consolidation</td>\n",
       "      <td>...</td>\n",
       "      <td>0</td>\n",
       "      <td>20967.0</td>\n",
       "      <td>28335.0</td>\n",
       "      <td>0.0</td>\n",
       "      <td>0.0</td>\n",
       "      <td>9.953705</td>\n",
       "      <td>9.950753</td>\n",
       "      <td>10.251888</td>\n",
       "      <td>7.187544</td>\n",
       "      <td>6.616065</td>\n",
       "    </tr>\n",
       "    <tr>\n",
       "      <th>3</th>\n",
       "      <td>00005222-b4d8-45a4-ad8c-186057e24233</td>\n",
       "      <td>070bcecb-aae7-4485-a26a-e0403e7bb6c5</td>\n",
       "      <td>Fully Paid</td>\n",
       "      <td>18743.0</td>\n",
       "      <td>Short Term</td>\n",
       "      <td>747.0</td>\n",
       "      <td>10</td>\n",
       "      <td>Own Home</td>\n",
       "      <td>38072.0</td>\n",
       "      <td>Debt Consolidation</td>\n",
       "      <td>...</td>\n",
       "      <td>0</td>\n",
       "      <td>22529.0</td>\n",
       "      <td>43915.0</td>\n",
       "      <td>0.0</td>\n",
       "      <td>0.0</td>\n",
       "      <td>9.838629</td>\n",
       "      <td>10.022603</td>\n",
       "      <td>10.690034</td>\n",
       "      <td>6.623959</td>\n",
       "      <td>6.616065</td>\n",
       "    </tr>\n",
       "    <tr>\n",
       "      <th>4</th>\n",
       "      <td>0000757f-a121-41ed-b17b-162e76647c1f</td>\n",
       "      <td>dde79588-12f0-4811-bab0-e2b07f633fcd</td>\n",
       "      <td>Fully Paid</td>\n",
       "      <td>11731.0</td>\n",
       "      <td>Short Term</td>\n",
       "      <td>746.0</td>\n",
       "      <td>4</td>\n",
       "      <td>Rent</td>\n",
       "      <td>50025.0</td>\n",
       "      <td>Debt Consolidation</td>\n",
       "      <td>...</td>\n",
       "      <td>0</td>\n",
       "      <td>17391.0</td>\n",
       "      <td>37081.0</td>\n",
       "      <td>0.0</td>\n",
       "      <td>0.0</td>\n",
       "      <td>9.370075</td>\n",
       "      <td>9.763766</td>\n",
       "      <td>10.520887</td>\n",
       "      <td>5.875436</td>\n",
       "      <td>6.614726</td>\n",
       "    </tr>\n",
       "  </tbody>\n",
       "</table>\n",
       "<p>5 rows × 24 columns</p>\n",
       "</div>"
      ],
      "text/plain": [
       "                                Loan_ID                           Customer_ID  \\\n",
       "0  000025bb-5694-4cff-b17d-192b1a98ba44  5ebc8bb1-5eb9-4404-b11b-a6eebc401a19   \n",
       "1  00002c49-3a29-4bd4-8f67-c8f8fbc1048c  927b388d-2e01-423f-a8dc-f7e42d668f46   \n",
       "2  00002d89-27f3-409b-aa76-90834f359a65  defce609-c631-447d-aad6-1270615e89c4   \n",
       "3  00005222-b4d8-45a4-ad8c-186057e24233  070bcecb-aae7-4485-a26a-e0403e7bb6c5   \n",
       "4  0000757f-a121-41ed-b17b-162e76647c1f  dde79588-12f0-4811-bab0-e2b07f633fcd   \n",
       "\n",
       "  Loan_Status  Current_Loan_Amount        Term  Credit_Score  \\\n",
       "0  Fully Paid              11520.0  Short Term         741.0   \n",
       "1  Fully Paid               3441.0  Short Term         734.0   \n",
       "2  Fully Paid              21029.0  Short Term         747.0   \n",
       "3  Fully Paid              18743.0  Short Term         747.0   \n",
       "4  Fully Paid              11731.0  Short Term         746.0   \n",
       "\n",
       "  Years_in_current_job Home_Ownership  Annual_Income             Purpose  \\\n",
       "0                   10  Home Mortgage        33694.0  Debt Consolidation   \n",
       "1                    4  Home Mortgage        42269.0               other   \n",
       "2                   10  Home Mortgage        90126.0  Debt Consolidation   \n",
       "3                   10       Own Home        38072.0  Debt Consolidation   \n",
       "4                    4           Rent        50025.0  Debt Consolidation   \n",
       "\n",
       "         ...         Number_of_Credit_Problems  Current_Credit_Balance  \\\n",
       "0        ...                                 0                  6760.0   \n",
       "1        ...                                 0                  6262.0   \n",
       "2        ...                                 0                 20967.0   \n",
       "3        ...                                 0                 22529.0   \n",
       "4        ...                                 0                 17391.0   \n",
       "\n",
       "   Maximum_Open_Credit  Bankruptcies  Tax_Liens  Current_Loan_Amount_log  \\\n",
       "0              16056.0           0.0        0.0                 9.351927   \n",
       "1              19149.0           0.0        0.0                 8.143808   \n",
       "2              28335.0           0.0        0.0                 9.953705   \n",
       "3              43915.0           0.0        0.0                 9.838629   \n",
       "4              37081.0           0.0        0.0                 9.370075   \n",
       "\n",
       "   Current_Credit_Balance_log  Maximum_Open_Credit_log  Monthly_Debt_log  \\\n",
       "0                    8.818926                 9.683900          6.371663   \n",
       "1                    8.742415                 9.860058          7.009445   \n",
       "2                    9.950753                10.251888          7.187544   \n",
       "3                   10.022603                10.690034          6.623959   \n",
       "4                    9.763766                10.520887          5.875436   \n",
       "\n",
       "   Credit_Score_log  \n",
       "0          6.608001  \n",
       "1          6.598509  \n",
       "2          6.616065  \n",
       "3          6.616065  \n",
       "4          6.614726  \n",
       "\n",
       "[5 rows x 24 columns]"
      ]
     },
     "execution_count": 121,
     "metadata": {},
     "output_type": "execute_result"
    }
   ],
   "source": [
    "prep.head()"
   ]
  },
  {
   "cell_type": "code",
   "execution_count": 122,
   "metadata": {
    "collapsed": true
   },
   "outputs": [],
   "source": [
    "prep.iloc[:, 17] = prep.iloc[:, 17].fillna(prep['Bankruptcies'].mean())"
   ]
  },
  {
   "cell_type": "code",
   "execution_count": 123,
   "metadata": {
    "collapsed": true
   },
   "outputs": [],
   "source": [
    "prep.iloc[:, 18] = prep.iloc[:, 18].fillna(prep['Tax_Liens'].mean())"
   ]
  },
  {
   "cell_type": "code",
   "execution_count": 124,
   "metadata": {},
   "outputs": [
    {
     "data": {
      "text/plain": [
       "Loan_ID                              0\n",
       "Customer_ID                          0\n",
       "Loan_Status                          0\n",
       "Current_Loan_Amount                  0\n",
       "Term                                 0\n",
       "Credit_Score                         0\n",
       "Years_in_current_job                 0\n",
       "Home_Ownership                       0\n",
       "Annual_Income                        0\n",
       "Purpose                              0\n",
       "Monthly_Debt                         0\n",
       "Years_of_Credit_History              0\n",
       "Months_since_last_delinquent    118262\n",
       "Number_of_Open_Accounts              0\n",
       "Number_of_Credit_Problems            0\n",
       "Current_Credit_Balance               0\n",
       "Maximum_Open_Credit                  0\n",
       "Bankruptcies                         0\n",
       "Tax_Liens                            0\n",
       "Current_Loan_Amount_log              0\n",
       "Current_Credit_Balance_log           0\n",
       "Maximum_Open_Credit_log              0\n",
       "Monthly_Debt_log                     0\n",
       "Credit_Score_log                     0\n",
       "dtype: int64"
      ]
     },
     "execution_count": 124,
     "metadata": {},
     "output_type": "execute_result"
    }
   ],
   "source": [
    "prep.isnull().sum()"
   ]
  },
  {
   "cell_type": "code",
   "execution_count": 125,
   "metadata": {},
   "outputs": [
    {
     "data": {
      "text/plain": [
       "<matplotlib.axes._subplots.AxesSubplot at 0x1a278f2b70>"
      ]
     },
     "execution_count": 125,
     "metadata": {},
     "output_type": "execute_result"
    },
    {
     "data": {
      "image/png": "[encoded data removed]",
      "text/plain": [
       "<matplotlib.figure.Figure at 0x11c32b7f0>"
      ]
     },
     "metadata": {},
     "output_type": "display_data"
    }
   ],
   "source": [
    "sns.distplot(prep['Annual_Income'])"
   ]
  },
  {
   "cell_type": "code",
   "execution_count": 126,
   "metadata": {},
   "outputs": [],
   "source": [
    "prep['Annual_Income_log']=np.log(prep['Annual_Income']+1)"
   ]
  },
  {
   "cell_type": "code",
   "execution_count": 127,
   "metadata": {},
   "outputs": [
    {
     "data": {
      "text/plain": [
       "<matplotlib.axes._subplots.AxesSubplot at 0x1a369e5be0>"
      ]
     },
     "execution_count": 127,
     "metadata": {},
     "output_type": "execute_result"
    },
    {
     "data": {
      "image/png": "[encoded data removed]",
      "text/plain": [
       "<matplotlib.figure.Figure at 0x1a279a8320>"
      ]
     },
     "metadata": {},
     "output_type": "display_data"
    }
   ],
   "source": [
    "sns.distplot(prep['Annual_Income_log'])"
   ]
  },
  {
   "cell_type": "code",
   "execution_count": 128,
   "metadata": {
    "collapsed": true
   },
   "outputs": [],
   "source": [
    "prep1=prep.copy()"
   ]
  },
  {
   "cell_type": "code",
   "execution_count": 129,
   "metadata": {
    "collapsed": true
   },
   "outputs": [],
   "source": [
    "prep1.to_csv('Loan_prep.csv', sep=',')"
   ]
  },
  {
   "cell_type": "code",
   "execution_count": 130,
   "metadata": {},
   "outputs": [
    {
     "data": {
      "text/plain": [
       "Loan_ID                          object\n",
       "Customer_ID                      object\n",
       "Loan_Status                      object\n",
       "Current_Loan_Amount             float64\n",
       "Term                             object\n",
       "Credit_Score                    float64\n",
       "Years_in_current_job             object\n",
       "Home_Ownership                   object\n",
       "Annual_Income                   float64\n",
       "Purpose                          object\n",
       "Monthly_Debt                    float64\n",
       "Years_of_Credit_History         float64\n",
       "Months_since_last_delinquent    float64\n",
       "Number_of_Open_Accounts           int64\n",
       "Number_of_Credit_Problems         int64\n",
       "Current_Credit_Balance          float64\n",
       "Maximum_Open_Credit             float64\n",
       "Bankruptcies                    float64\n",
       "Tax_Liens                       float64\n",
       "Current_Loan_Amount_log         float64\n",
       "Current_Credit_Balance_log      float64\n",
       "Maximum_Open_Credit_log         float64\n",
       "Monthly_Debt_log                float64\n",
       "Credit_Score_log                float64\n",
       "Annual_Income_log               float64\n",
       "dtype: object"
      ]
     },
     "execution_count": 130,
     "metadata": {},
     "output_type": "execute_result"
    }
   ],
   "source": [
    "prep1.dtypes"
   ]
  },
  {
   "cell_type": "code",
   "execution_count": 131,
   "metadata": {},
   "outputs": [],
   "source": [
    "prep1=prep1.drop(['Credit_Score_log','Annual_Income','Current_Credit_Balance','Maximum_Open_Credit','Monthly_Debt','Current_Loan_Amount_log'],axis=1)"
   ]
  },
  {
   "cell_type": "code",
   "execution_count": 132,
   "metadata": {},
   "outputs": [
    {
     "name": "stdout",
     "output_type": "stream",
     "text": [
      "<class 'pandas.core.frame.DataFrame'>\n",
      "RangeIndex: 215700 entries, 0 to 215699\n",
      "Data columns (total 19 columns):\n",
      "Loan_ID                         215700 non-null object\n",
      "Customer_ID                     215700 non-null object\n",
      "Loan_Status                     215700 non-null object\n",
      "Current_Loan_Amount             215700 non-null float64\n",
      "Term                            215700 non-null object\n",
      "Credit_Score                    215700 non-null float64\n",
      "Years_in_current_job            215700 non-null object\n",
      "Home_Ownership                  215700 non-null object\n",
      "Purpose                         215700 non-null object\n",
      "Years_of_Credit_History         215700 non-null float64\n",
      "Months_since_last_delinquent    97438 non-null float64\n",
      "Number_of_Open_Accounts         215700 non-null int64\n",
      "Number_of_Credit_Problems       215700 non-null int64\n",
      "Bankruptcies                    215700 non-null float64\n",
      "Tax_Liens                       215700 non-null float64\n",
      "Current_Credit_Balance_log      215700 non-null float64\n",
      "Maximum_Open_Credit_log         215700 non-null float64\n",
      "Monthly_Debt_log                215700 non-null float64\n",
      "Annual_Income_log               215700 non-null float64\n",
      "dtypes: float64(10), int64(2), object(7)\n",
      "memory usage: 31.3+ MB\n"
     ]
    }
   ],
   "source": [
    "prep1.info()"
   ]
  },
  {
   "cell_type": "code",
   "execution_count": 133,
   "metadata": {
    "collapsed": true
   },
   "outputs": [],
   "source": [
    "prep1=prep1.drop(['Loan_ID','Customer_ID','Months_since_last_delinquent'],axis=1)"
   ]
  },
  {
   "cell_type": "code",
   "execution_count": 134,
   "metadata": {},
   "outputs": [
    {
     "name": "stdout",
     "output_type": "stream",
     "text": [
      "<class 'pandas.core.frame.DataFrame'>\n",
      "RangeIndex: 215700 entries, 0 to 215699\n",
      "Data columns (total 16 columns):\n",
      "Loan_Status                   215700 non-null object\n",
      "Current_Loan_Amount           215700 non-null float64\n",
      "Term                          215700 non-null object\n",
      "Credit_Score                  215700 non-null float64\n",
      "Years_in_current_job          215700 non-null object\n",
      "Home_Ownership                215700 non-null object\n",
      "Purpose                       215700 non-null object\n",
      "Years_of_Credit_History       215700 non-null float64\n",
      "Number_of_Open_Accounts       215700 non-null int64\n",
      "Number_of_Credit_Problems     215700 non-null int64\n",
      "Bankruptcies                  215700 non-null float64\n",
      "Tax_Liens                     215700 non-null float64\n",
      "Current_Credit_Balance_log    215700 non-null float64\n",
      "Maximum_Open_Credit_log       215700 non-null float64\n",
      "Monthly_Debt_log              215700 non-null float64\n",
      "Annual_Income_log             215700 non-null float64\n",
      "dtypes: float64(9), int64(2), object(5)\n",
      "memory usage: 26.3+ MB\n"
     ]
    }
   ],
   "source": [
    "prep1.info()"
   ]
  },
  {
   "cell_type": "code",
   "execution_count": 135,
   "metadata": {},
   "outputs": [],
   "source": [
    "prep1['Bankruptcies'] = prep1['Bankruptcies'].astype('object')\n",
    "prep1['Tax_Liens'] = prep1['Tax_Liens'].astype('object')\n",
    "prep1['Number_of_Open_Accounts'] = prep1['Number_of_Open_Accounts'].astype('object')\n",
    "prep1['Number_of_Credit_Problems'] = prep1['Number_of_Credit_Problems'].astype('object')"
   ]
  },
  {
   "cell_type": "code",
   "execution_count": 136,
   "metadata": {},
   "outputs": [
    {
     "name": "stdout",
     "output_type": "stream",
     "text": [
      "<class 'pandas.core.frame.DataFrame'>\n",
      "RangeIndex: 215700 entries, 0 to 215699\n",
      "Data columns (total 16 columns):\n",
      "Loan_Status                   215700 non-null object\n",
      "Current_Loan_Amount           215700 non-null float64\n",
      "Term                          215700 non-null object\n",
      "Credit_Score                  215700 non-null float64\n",
      "Years_in_current_job          215700 non-null object\n",
      "Home_Ownership                215700 non-null object\n",
      "Purpose                       215700 non-null object\n",
      "Years_of_Credit_History       215700 non-null float64\n",
      "Number_of_Open_Accounts       215700 non-null object\n",
      "Number_of_Credit_Problems     215700 non-null object\n",
      "Bankruptcies                  215700 non-null object\n",
      "Tax_Liens                     215700 non-null object\n",
      "Current_Credit_Balance_log    215700 non-null float64\n",
      "Maximum_Open_Credit_log       215700 non-null float64\n",
      "Monthly_Debt_log              215700 non-null float64\n",
      "Annual_Income_log             215700 non-null float64\n",
      "dtypes: float64(7), object(9)\n",
      "memory usage: 26.3+ MB\n"
     ]
    }
   ],
   "source": [
    "prep1.info()"
   ]
  },
  {
   "cell_type": "code",
   "execution_count": 137,
   "metadata": {},
   "outputs": [
    {
     "data": {
      "text/plain": [
       "Fully Paid     176191\n",
       "Charged Off     39509\n",
       "Name: Loan_Status, dtype: int64"
      ]
     },
     "execution_count": 137,
     "metadata": {},
     "output_type": "execute_result"
    }
   ],
   "source": [
    "prep1.Loan_Status.value_counts()"
   ]
  },
  {
   "cell_type": "code",
   "execution_count": 138,
   "metadata": {
    "collapsed": true
   },
   "outputs": [],
   "source": [
    "lib={'Fully Paid':0,'Charged Off':1 }\n",
    "prep1.Loan_Status=prep1.Loan_Status.map(lib)"
   ]
  },
  {
   "cell_type": "markdown",
   "metadata": {},
   "source": [
    "# Get Dummies for Categorical Variable"
   ]
  },
  {
   "cell_type": "code",
   "execution_count": 139,
   "metadata": {
    "collapsed": true
   },
   "outputs": [],
   "source": [
    "dummy=prep1.copy()"
   ]
  },
  {
   "cell_type": "code",
   "execution_count": 140,
   "metadata": {
    "collapsed": true
   },
   "outputs": [],
   "source": [
    "dummy=dummy.drop(['Loan_Status'],axis=1)"
   ]
  },
  {
   "cell_type": "code",
   "execution_count": 141,
   "metadata": {
    "collapsed": true
   },
   "outputs": [],
   "source": [
    "dummy=pd.get_dummies(dummy,drop_first=True)"
   ]
  },
  {
   "cell_type": "code",
   "execution_count": 142,
   "metadata": {},
   "outputs": [
    {
     "name": "stdout",
     "output_type": "stream",
     "text": [
      "<class 'pandas.core.frame.DataFrame'>\n",
      "RangeIndex: 215700 entries, 0 to 215699\n",
      "Columns: 118 entries, Current_Loan_Amount to Tax_Liens_11.0\n",
      "dtypes: float64(7), uint8(111)\n",
      "memory usage: 34.4 MB\n"
     ]
    }
   ],
   "source": [
    "dummy.info()"
   ]
  },
  {
   "cell_type": "markdown",
   "metadata": {},
   "source": [
    "# Modeling"
   ]
  },
  {
   "cell_type": "code",
   "execution_count": 143,
   "metadata": {
    "collapsed": true
   },
   "outputs": [],
   "source": [
    "X=dummy.copy()\n",
    "Y=prep1['Loan_Status']"
   ]
  },
  {
   "cell_type": "code",
   "execution_count": 144,
   "metadata": {},
   "outputs": [
    {
     "data": {
      "text/plain": [
       "((215700, 118), (215700,))"
      ]
     },
     "execution_count": 144,
     "metadata": {},
     "output_type": "execute_result"
    }
   ],
   "source": [
    "X.shape, Y.shape"
   ]
  },
  {
   "cell_type": "markdown",
   "metadata": {},
   "source": [
    "# Train_test_split "
   ]
  },
  {
   "cell_type": "code",
   "execution_count": 145,
   "metadata": {},
   "outputs": [
    {
     "name": "stderr",
     "output_type": "stream",
     "text": [
      "/Users/SKYLER/anaconda3/lib/python3.6/site-packages/sklearn/cross_validation.py:41: DeprecationWarning: This module was deprecated in version 0.18 in favor of the model_selection module into which all the refactored classes and functions are moved. Also note that the interface of the new CV iterators are different from that of this module. This module will be removed in 0.20.\n",
      "  \"This module will be removed in 0.20.\", DeprecationWarning)\n"
     ]
    },
    {
     "data": {
      "text/plain": [
       "((172560, 118), (43140, 118), (172560,), (43140,))"
      ]
     },
     "execution_count": 145,
     "metadata": {},
     "output_type": "execute_result"
    }
   ],
   "source": [
    "from sklearn.model_selection import StratifiedKFold\n",
    "from sklearn.cross_validation import train_test_split as tts\n",
    "x_train, x_val, y_train, y_val = tts(X,Y, train_size = 0.8, stratify=Y,\n",
    "                                      random_state=42)\n",
    "x_train.shape,x_val.shape,y_train.shape,y_val.shape"
   ]
  },
  {
   "cell_type": "code",
   "execution_count": 146,
   "metadata": {},
   "outputs": [
    {
     "name": "stdout",
     "output_type": "stream",
     "text": [
      "0    0.816835\n",
      "1    0.183165\n",
      "Name: Loan_Status, dtype: float64\n",
      "0    0.816829\n",
      "1    0.183171\n",
      "Name: Loan_Status, dtype: float64\n"
     ]
    }
   ],
   "source": [
    "print(y_train.value_counts(normalize=True))\n",
    "print(y_val.value_counts(normalize=True))"
   ]
  },
  {
   "cell_type": "markdown",
   "metadata": {},
   "source": [
    "# Oversampling By SMOTE"
   ]
  },
  {
   "cell_type": "code",
   "execution_count": 147,
   "metadata": {},
   "outputs": [
    {
     "name": "stderr",
     "output_type": "stream",
     "text": [
      "/Users/SKYLER/anaconda3/lib/python3.6/site-packages/sklearn/utils/deprecation.py:77: DeprecationWarning: Function _ratio_float is deprecated; Use a float for 'ratio' is deprecated from version 0.2. The support will be removed in 0.4. Use a dict, str, or a callable instead.\n",
      "  warnings.warn(msg, category=DeprecationWarning)\n"
     ]
    },
    {
     "data": {
      "text/plain": [
       "((281906, 118), (281906,))"
      ]
     },
     "execution_count": 147,
     "metadata": {},
     "output_type": "execute_result"
    }
   ],
   "source": [
    "from imblearn.over_sampling import SMOTE\n",
    "sm = SMOTE(random_state=42, ratio =1.0)\n",
    "X_train_res, Y_train_res = sm.fit_sample(x_train,y_train)\n",
    "X_train_res.shape, Y_train_res.shape"
   ]
  },
  {
   "cell_type": "code",
   "execution_count": 148,
   "metadata": {},
   "outputs": [
    {
     "data": {
      "text/plain": [
       "(0    140953\n",
       " 1     31607\n",
       " Name: Loan_Status, dtype: int64, array([140953, 140953]))"
      ]
     },
     "execution_count": 148,
     "metadata": {},
     "output_type": "execute_result"
    }
   ],
   "source": [
    "y_train.value_counts(), np.bincount(Y_train_res)"
   ]
  },
  {
   "cell_type": "code",
   "execution_count": 162,
   "metadata": {},
   "outputs": [
    {
     "data": {
      "text/plain": [
       "0    35238\n",
       "1     7902\n",
       "Name: Loan_Status, dtype: int64"
      ]
     },
     "execution_count": 162,
     "metadata": {},
     "output_type": "execute_result"
    }
   ],
   "source": [
    "y_val.value_counts()"
   ]
  },
  {
   "cell_type": "markdown",
   "metadata": {},
   "source": [
    "# Modeling"
   ]
  },
  {
   "cell_type": "code",
   "execution_count": 149,
   "metadata": {
    "collapsed": true
   },
   "outputs": [],
   "source": [
    "def Metrics(y_val,pred):\n",
    "    print('accuray:', accuracy_score(y_val,pred),',recall score:',recall_score(y_val,pred),'\\n ConfusionMatrix: \\n',confusion_matrix(y_val,pred))\n",
    "    #model_rf.feature_importances_\n",
    "    print('Precision Score:',precision_score(y_val,pred),'F1_score:',f1_score(y_val,pred))"
   ]
  },
  {
   "cell_type": "markdown",
   "metadata": {},
   "source": [
    "# Randomforest"
   ]
  },
  {
   "cell_type": "code",
   "execution_count": 164,
   "metadata": {},
   "outputs": [
    {
     "name": "stdout",
     "output_type": "stream",
     "text": [
      "accuray: 0.860315252666 ,recall score: 0.296254112883 \n",
      " ConfusionMatrix: \n",
      " [[34773   465]\n",
      " [ 5561  2341]]\n",
      "Precision Score: 0.834283677833 F1_score: 0.437243182667\n"
     ]
    }
   ],
   "source": [
    "from sklearn.metrics import accuracy_score,recall_score, confusion_matrix, roc_curve, precision_score, f1_score\n",
    "from sklearn.ensemble import RandomForestClassifier #Random Forest\n",
    "\n",
    "rf = RandomForestClassifier(n_estimators=300, min_samples_split=5, \\\n",
    "                            max_depth=35,random_state=42)\n",
    "model_rf = rf.fit(X_train_res,Y_train_res)\n",
    "pred_rf = model_rf.predict(x_val)\n",
    "Metrics(y_val,pred_rf)"
   ]
  },
  {
   "cell_type": "markdown",
   "metadata": {},
   "source": [
    "# Feature Importance -Randomforest"
   ]
  },
  {
   "cell_type": "code",
   "execution_count": 167,
   "metadata": {
    "collapsed": true
   },
   "outputs": [],
   "source": [
    "import pandas as pd\n",
    "feature_importance_rf = pd.DataFrame(rf.feature_importances_,\n",
    "                                   index = x_train.columns,\n",
    "                                    columns=['importance']).sort_values('importance',ascending=False)"
   ]
  },
  {
   "cell_type": "code",
   "execution_count": 168,
   "metadata": {},
   "outputs": [
    {
     "data": {
      "text/html": [
       "<div>\n",
       "<style>\n",
       "    .dataframe thead tr:only-child th {\n",
       "        text-align: right;\n",
       "    }\n",
       "\n",
       "    .dataframe thead th {\n",
       "        text-align: left;\n",
       "    }\n",
       "\n",
       "    .dataframe tbody tr th {\n",
       "        vertical-align: top;\n",
       "    }\n",
       "</style>\n",
       "<table border=\"1\" class=\"dataframe\">\n",
       "  <thead>\n",
       "    <tr style=\"text-align: right;\">\n",
       "      <th></th>\n",
       "      <th>importance</th>\n",
       "    </tr>\n",
       "  </thead>\n",
       "  <tbody>\n",
       "    <tr>\n",
       "      <th>Credit_Score</th>\n",
       "      <td>0.150570</td>\n",
       "    </tr>\n",
       "    <tr>\n",
       "      <th>Current_Loan_Amount</th>\n",
       "      <td>0.099099</td>\n",
       "    </tr>\n",
       "    <tr>\n",
       "      <th>Home_Ownership_Rent</th>\n",
       "      <td>0.090088</td>\n",
       "    </tr>\n",
       "    <tr>\n",
       "      <th>Term_Short Term</th>\n",
       "      <td>0.071886</td>\n",
       "    </tr>\n",
       "    <tr>\n",
       "      <th>Years_in_current_job_10</th>\n",
       "      <td>0.065894</td>\n",
       "    </tr>\n",
       "    <tr>\n",
       "      <th>Annual_Income_log</th>\n",
       "      <td>0.046023</td>\n",
       "    </tr>\n",
       "    <tr>\n",
       "      <th>Purpose_Debt Consolidation</th>\n",
       "      <td>0.038694</td>\n",
       "    </tr>\n",
       "    <tr>\n",
       "      <th>Maximum_Open_Credit_log</th>\n",
       "      <td>0.024414</td>\n",
       "    </tr>\n",
       "    <tr>\n",
       "      <th>Number_of_Open_Accounts_9</th>\n",
       "      <td>0.024163</td>\n",
       "    </tr>\n",
       "    <tr>\n",
       "      <th>Years_in_current_job_2</th>\n",
       "      <td>0.023565</td>\n",
       "    </tr>\n",
       "  </tbody>\n",
       "</table>\n",
       "</div>"
      ],
      "text/plain": [
       "                            importance\n",
       "Credit_Score                  0.150570\n",
       "Current_Loan_Amount           0.099099\n",
       "Home_Ownership_Rent           0.090088\n",
       "Term_Short Term               0.071886\n",
       "Years_in_current_job_10       0.065894\n",
       "Annual_Income_log             0.046023\n",
       "Purpose_Debt Consolidation    0.038694\n",
       "Maximum_Open_Credit_log       0.024414\n",
       "Number_of_Open_Accounts_9     0.024163\n",
       "Years_in_current_job_2        0.023565"
      ]
     },
     "execution_count": 168,
     "metadata": {},
     "output_type": "execute_result"
    }
   ],
   "source": [
    "feature_importance_rf[0:10]"
   ]
  },
  {
   "cell_type": "code",
   "execution_count": 165,
   "metadata": {},
   "outputs": [],
   "source": [
    "precision=precision_score(y_val,pred_rf)"
   ]
  },
  {
   "cell_type": "code",
   "execution_count": 169,
   "metadata": {},
   "outputs": [
    {
     "data": {
      "image/png": "[encoded data removed]",
      "text/plain": [
       "<matplotlib.figure.Figure at 0x1a236bc160>"
      ]
     },
     "metadata": {},
     "output_type": "display_data"
    }
   ],
   "source": [
    "# Data to plot# Data t \n",
    "labels = 'False Positive', 'True Positive'\n",
    "sizes = [1-precision, precision]\n",
    "colors = ['lightcoral', 'lightblue'] \n",
    "# Plot\n",
    "plt.figure(figsize=(6,6))\n",
    "plt.pie(sizes, colors=colors, autopct='%1.2f%%', shadow=False, startangle=0)\n",
    "plt.title('Precision', fontsize=12) \n",
    "plt.legend(labels, loc='lower left', fontsize=10)\n",
    "plt.axis('equal')\n",
    "plt.show()"
   ]
  },
  {
   "cell_type": "markdown",
   "metadata": {},
   "source": [
    "# Logistic Regression"
   ]
  },
  {
   "cell_type": "code",
   "execution_count": 152,
   "metadata": {},
   "outputs": [
    {
     "name": "stdout",
     "output_type": "stream",
     "text": [
      "The accuracy of the Logistic Regression is 0.716944830783\n"
     ]
    }
   ],
   "source": [
    "from sklearn.linear_model import LogisticRegression #logistic regression\n",
    "model = LogisticRegression()\n",
    "model.fit(X_train_res,Y_train_res)\n",
    "prediction1=model.predict(x_val)\n",
    "print('The accuracy of the Logistic Regression is',metrics.accuracy_score(prediction1,y_val))"
   ]
  },
  {
   "cell_type": "markdown",
   "metadata": {},
   "source": [
    "# Gradient Boosting"
   ]
  },
  {
   "cell_type": "code",
   "execution_count": 153,
   "metadata": {},
   "outputs": [
    {
     "name": "stdout",
     "output_type": "stream",
     "text": [
      "accuray: 0.855771905424 ,recall score: 0.319412806884 \n",
      " ConfusionMatrix: \n",
      " [[34394   844]\n",
      " [ 5378  2524]]\n",
      "Precision Score: 0.749406175772 F1_score: 0.447914818101\n"
     ]
    }
   ],
   "source": [
    "from sklearn.ensemble import GradientBoostingClassifier \n",
    "g_clf = GradientBoostingClassifier(n_estimators=100,learning_rate=0.5,max_depth=5)\n",
    "g_clf.fit(X_train_res,Y_train_res)\n",
    "pred_g=g_clf.predict(x_val)\n",
    "Metrics(y_val,pred_g)"
   ]
  },
  {
   "cell_type": "markdown",
   "metadata": {},
   "source": [
    "# Feature Importance -Gradient Boosting"
   ]
  },
  {
   "cell_type": "code",
   "execution_count": 155,
   "metadata": {
    "collapsed": true
   },
   "outputs": [],
   "source": [
    "import pandas as pd\n",
    "feature_importances_gb = pd.DataFrame(g_clf.feature_importances_,\n",
    "                                   index = x_train.columns,\n",
    "                                    columns=['importance']).sort_values('importance',ascending=False)"
   ]
  },
  {
   "cell_type": "code",
   "execution_count": 156,
   "metadata": {},
   "outputs": [
    {
     "data": {
      "text/html": [
       "<div>\n",
       "<style>\n",
       "    .dataframe thead tr:only-child th {\n",
       "        text-align: right;\n",
       "    }\n",
       "\n",
       "    .dataframe thead th {\n",
       "        text-align: left;\n",
       "    }\n",
       "\n",
       "    .dataframe tbody tr th {\n",
       "        vertical-align: top;\n",
       "    }\n",
       "</style>\n",
       "<table border=\"1\" class=\"dataframe\">\n",
       "  <thead>\n",
       "    <tr style=\"text-align: right;\">\n",
       "      <th></th>\n",
       "      <th>importance</th>\n",
       "    </tr>\n",
       "  </thead>\n",
       "  <tbody>\n",
       "    <tr>\n",
       "      <th>Credit_Score</th>\n",
       "      <td>0.128421</td>\n",
       "    </tr>\n",
       "    <tr>\n",
       "      <th>Current_Loan_Amount</th>\n",
       "      <td>0.108862</td>\n",
       "    </tr>\n",
       "    <tr>\n",
       "      <th>Annual_Income_log</th>\n",
       "      <td>0.098132</td>\n",
       "    </tr>\n",
       "    <tr>\n",
       "      <th>Monthly_Debt_log</th>\n",
       "      <td>0.071543</td>\n",
       "    </tr>\n",
       "    <tr>\n",
       "      <th>Maximum_Open_Credit_log</th>\n",
       "      <td>0.071474</td>\n",
       "    </tr>\n",
       "    <tr>\n",
       "      <th>Years_of_Credit_History</th>\n",
       "      <td>0.067121</td>\n",
       "    </tr>\n",
       "    <tr>\n",
       "      <th>Current_Credit_Balance_log</th>\n",
       "      <td>0.042145</td>\n",
       "    </tr>\n",
       "    <tr>\n",
       "      <th>Years_in_current_job_10</th>\n",
       "      <td>0.031468</td>\n",
       "    </tr>\n",
       "    <tr>\n",
       "      <th>Home_Ownership_Rent</th>\n",
       "      <td>0.025930</td>\n",
       "    </tr>\n",
       "    <tr>\n",
       "      <th>Term_Short Term</th>\n",
       "      <td>0.017563</td>\n",
       "    </tr>\n",
       "  </tbody>\n",
       "</table>\n",
       "</div>"
      ],
      "text/plain": [
       "                            importance\n",
       "Credit_Score                  0.128421\n",
       "Current_Loan_Amount           0.108862\n",
       "Annual_Income_log             0.098132\n",
       "Monthly_Debt_log              0.071543\n",
       "Maximum_Open_Credit_log       0.071474\n",
       "Years_of_Credit_History       0.067121\n",
       "Current_Credit_Balance_log    0.042145\n",
       "Years_in_current_job_10       0.031468\n",
       "Home_Ownership_Rent           0.025930\n",
       "Term_Short Term               0.017563"
      ]
     },
     "execution_count": 156,
     "metadata": {},
     "output_type": "execute_result"
    }
   ],
   "source": [
    "feature_importances_gb[0:10]"
   ]
  },
  {
   "cell_type": "code",
   "execution_count": 170,
   "metadata": {},
   "outputs": [
    {
     "data": {
      "text/plain": [
       "['Loan_Status',\n",
       " 'Current_Loan_Amount',\n",
       " 'Term',\n",
       " 'Credit_Score',\n",
       " 'Years_in_current_job',\n",
       " 'Home_Ownership',\n",
       " 'Purpose',\n",
       " 'Years_of_Credit_History',\n",
       " 'Number_of_Open_Accounts',\n",
       " 'Number_of_Credit_Problems',\n",
       " 'Bankruptcies',\n",
       " 'Tax_Liens',\n",
       " 'Current_Credit_Balance_log',\n",
       " 'Maximum_Open_Credit_log',\n",
       " 'Monthly_Debt_log',\n",
       " 'Annual_Income_log']"
      ]
     },
     "execution_count": 170,
     "metadata": {},
     "output_type": "execute_result"
    }
   ],
   "source": [
    "list(prep1.head())"
   ]
  },
  {
   "cell_type": "code",
   "execution_count": null,
   "metadata": {
    "collapsed": true
   },
   "outputs": [],
   "source": []
  }
 ],
 "metadata": {
  "kernelspec": {
   "display_name": "Python 3",
   "language": "python",
   "name": "python3"
  },
  "language_info": {
   "codemirror_mode": {
    "name": "ipython",
    "version": 3
   },
   "file_extension": ".py",
   "mimetype": "text/x-python",
   "name": "python",
   "nbconvert_exporter": "python",
   "pygments_lexer": "ipython3",
   "version": "3.6.3"
  }
 },
 "nbformat": 4,
 "nbformat_minor": 2
}
